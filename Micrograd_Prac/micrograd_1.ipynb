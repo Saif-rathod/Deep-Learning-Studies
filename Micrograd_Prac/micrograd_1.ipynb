{
 "cells": [
  {
   "cell_type": "code",
   "execution_count": 1,
   "metadata": {},
   "outputs": [],
   "source": [
    "import math\n",
    "import numpy as np\n",
    "import matplotlib.pyplot as plt\n",
    "%matplotlib inline"
   ]
  },
  {
   "cell_type": "code",
   "execution_count": 2,
   "metadata": {},
   "outputs": [],
   "source": [
    "def f(x):\n",
    "  return 3*x**2 - 4*x + 5"
   ]
  },
  {
   "cell_type": "code",
   "execution_count": 3,
   "metadata": {},
   "outputs": [
    {
     "data": {
      "text/plain": [
       "20.0"
      ]
     },
     "execution_count": 3,
     "metadata": {},
     "output_type": "execute_result"
    }
   ],
   "source": [
    "f(3.0)"
   ]
  },
  {
   "cell_type": "code",
   "execution_count": 4,
   "metadata": {},
   "outputs": [
    {
     "data": {
      "text/plain": [
       "[<matplotlib.lines.Line2D at 0x14964045510>]"
      ]
     },
     "execution_count": 4,
     "metadata": {},
     "output_type": "execute_result"
    },
    {
     "data": {
      "image/png": "[encoded data removed]",
      "text/plain": [
       "<Figure size 640x480 with 1 Axes>"
      ]
     },
     "metadata": {},
     "output_type": "display_data"
    }
   ],
   "source": [
    "xs = np.arange(-5, 5, 0.25)\n",
    "ys = f(xs)\n",
    "plt.plot(xs, ys)"
   ]
  },
  {
   "cell_type": "code",
   "execution_count": 5,
   "metadata": {},
   "outputs": [
    {
     "data": {
      "text/plain": [
       "2.999378523327323e-06"
      ]
     },
     "execution_count": 5,
     "metadata": {},
     "output_type": "execute_result"
    }
   ],
   "source": [
    "h = 0.000001\n",
    "x = 2/3\n",
    "(f(x + h) - f(x))/h"
   ]
  },
  {
   "cell_type": "code",
   "execution_count": 6,
   "metadata": {},
   "outputs": [
    {
     "name": "stdout",
     "output_type": "stream",
     "text": [
      "4.0\n"
     ]
    }
   ],
   "source": [
    "# les get more complex\n",
    "a = 2.0\n",
    "b = -3.0\n",
    "c = 10.0\n",
    "d = a*b + c\n",
    "print(d)"
   ]
  },
  {
   "cell_type": "code",
   "execution_count": 7,
   "metadata": {},
   "outputs": [
    {
     "name": "stdout",
     "output_type": "stream",
     "text": [
      "d1 4.0\n",
      "d2 4.0001\n",
      "slope 0.9999999999976694\n"
     ]
    }
   ],
   "source": [
    "h = 0.0001\n",
    "\n",
    "# inputs\n",
    "a = 2.0\n",
    "b = -3.0\n",
    "c = 10.0\n",
    "\n",
    "d1 = a*b + c\n",
    "c += h\n",
    "d2 = a*b + c\n",
    "\n",
    "print('d1', d1)\n",
    "print('d2', d2)\n",
    "print('slope', (d2 - d1)/h)\n"
   ]
  },
  {
   "cell_type": "code",
   "execution_count": 8,
   "metadata": {},
   "outputs": [
    {
     "data": {
      "text/plain": [
       "Value(data=-8.0)"
      ]
     },
     "execution_count": 8,
     "metadata": {},
     "output_type": "execute_result"
    }
   ],
   "source": [
    "class Value:\n",
    "  \n",
    "  def __init__(self, data, _children=(), _op='', label=''):\n",
    "    self.data = data\n",
    "    self.grad = 0.0\n",
    "    self._backward = lambda: None\n",
    "    self._prev = set(_children)\n",
    "    self._op = _op\n",
    "    self.label = label\n",
    "\n",
    "  def __repr__(self):\n",
    "    return f\"Value(data={self.data})\"\n",
    "  \n",
    "  def __add__(self, other):\n",
    "    out = Value(self.data + other.data, (self, other), '+')\n",
    "    \n",
    "    def _backward():\n",
    "      self.grad += 1.0 * out.grad\n",
    "      other.grad += 1.0 * out.grad\n",
    "    out._backward = _backward\n",
    "    \n",
    "    return out\n",
    "\n",
    "  def __mul__(self, other):\n",
    "    out = Value(self.data * other.data, (self, other), '*')\n",
    "    \n",
    "    def _backward():\n",
    "      self.grad += other.data * out.grad\n",
    "      other.grad += self.data * out.grad\n",
    "    out._backward = _backward\n",
    "      \n",
    "    return out\n",
    "  \n",
    "  def tanh(self):\n",
    "    x = self.data\n",
    "    t = (math.exp(2*x) - 1)/(math.exp(2*x) + 1)\n",
    "    out = Value(t, (self, ), 'tanh')\n",
    "    \n",
    "    def _backward():\n",
    "      self.grad += (1 - t**2) * out.grad\n",
    "    out._backward = _backward\n",
    "    \n",
    "    return out\n",
    "  \n",
    "  def backward(self):\n",
    "    \n",
    "    topo = []\n",
    "    visited = set()\n",
    "    def build_topo(v):\n",
    "      if v not in visited:\n",
    "        visited.add(v)\n",
    "        for child in v._prev:\n",
    "          build_topo(child)\n",
    "        topo.append(v)\n",
    "    build_topo(self)\n",
    "    \n",
    "    self.grad = 1.0\n",
    "    for node in reversed(topo):\n",
    "      node._backward()\n",
    "\n",
    "\n",
    "a = Value(2.0, label='a')\n",
    "b = Value(-3.0, label='b')\n",
    "c = Value(10.0, label='c')\n",
    "e = a*b; e.label = 'e'\n",
    "d = e + c; d.label = 'd'\n",
    "f = Value(-2.0, label='f')\n",
    "L = d * f; L.label = 'L'\n",
    "L"
   ]
  },
  {
   "cell_type": "code",
   "execution_count": 9,
   "metadata": {},
   "outputs": [],
   "source": [
    "from graphviz import Digraph\n",
    "\n",
    "def trace(root):\n",
    "  # builds a set of all nodes and edges in a graph\n",
    "  nodes, edges = set(), set()\n",
    "  def build(v):\n",
    "    if v not in nodes:\n",
    "      nodes.add(v)\n",
    "      for child in v._prev:\n",
    "        edges.add((child, v))\n",
    "        build(child)\n",
    "  build(root)\n",
    "  return nodes, edges\n",
    "\n",
    "def draw_dot(root):\n",
    "  dot = Digraph(format='svg', graph_attr={'rankdir': 'LR'}) # LR = left to right\n",
    "  \n",
    "  nodes, edges = trace(root)\n",
    "  for n in nodes:\n",
    "    uid = str(id(n))\n",
    "    # for any value in the graph, create a rectangular ('record') node for it\n",
    "    dot.node(name = uid, label = \"{ %s | data %.4f | grad %.4f }\" % (n.label, n.data, n.grad), shape='record')\n",
    "    if n._op:\n",
    "      # if this value is a result of some operation, create an op node for it\n",
    "      dot.node(name = uid + n._op, label = n._op)\n",
    "      # and connect this node to it\n",
    "      dot.edge(uid + n._op, uid)\n",
    "\n",
    "  for n1, n2 in edges:\n",
    "    # connect n1 to the op node of n2\n",
    "    dot.edge(str(id(n1)), str(id(n2)) + n2._op)\n",
    "\n",
    "  return dot\n"
   ]
  },
  {
   "cell_type": "code",
   "execution_count": 10,
   "metadata": {},
   "outputs": [
    {
     "data": {
      "image/svg+xml": [
       "<?xml version=\"1.0\" encoding=\"UTF-8\" standalone=\"no\"?>\n",
       "<!DOCTYPE svg PUBLIC \"-//W3C//DTD SVG 1.1//EN\"\n",
       " \"http://www.w3.org/Graphics/SVG/1.1/DTD/svg11.dtd\">\n",
       "<!-- Generated by graphviz version 12.0.0 (20240704.0754)\n",
       " -->\n",
       "<!-- Pages: 1 -->\n",
       "<svg width=\"1147pt\" height=\"154pt\"\n",
       " viewBox=\"0.00 0.00 1147.25 154.00\" xmlns=\"http://www.w3.org/2000/svg\" xmlns:xlink=\"http://www.w3.org/1999/xlink\">\n",
       "<g id=\"graph0\" class=\"graph\" transform=\"scale(1 1) rotate(0) translate(4 150)\">\n",
       "<polygon fill=\"white\" stroke=\"none\" points=\"-4,4 -4,-150 1143.25,-150 1143.25,4 -4,4\"/>\n",
       "<!-- 1414721712144 -->\n",
       "<g id=\"node1\" class=\"node\">\n",
       "<title>1414721712144</title>\n",
       "<polygon fill=\"none\" stroke=\"black\" points=\"635.25,-54.5 635.25,-90.5 821.25,-90.5 821.25,-54.5 635.25,-54.5\"/>\n",
       "<text text-anchor=\"middle\" x=\"647\" y=\"-67.2\" font-family=\"Times New Roman,serif\" font-size=\"14.00\">d</text>\n",
       "<polyline fill=\"none\" stroke=\"black\" points=\"658.75,-54.75 658.75,-90.5\"/>\n",
       "<text text-anchor=\"middle\" x=\"699\" y=\"-67.2\" font-family=\"Times New Roman,serif\" font-size=\"14.00\">data 4.0000</text>\n",
       "<polyline fill=\"none\" stroke=\"black\" points=\"739.25,-54.75 739.25,-90.5\"/>\n",
       "<text text-anchor=\"middle\" x=\"780.25\" y=\"-67.2\" font-family=\"Times New Roman,serif\" font-size=\"14.00\">grad 0.0000</text>\n",
       "</g>\n",
       "<!-- 1414721698256* -->\n",
       "<g id=\"node10\" class=\"node\">\n",
       "<title>1414721698256*</title>\n",
       "<ellipse fill=\"none\" stroke=\"black\" cx=\"885\" cy=\"-99.5\" rx=\"27\" ry=\"18\"/>\n",
       "<text text-anchor=\"middle\" x=\"885\" y=\"-94.08\" font-family=\"Times New Roman,serif\" font-size=\"14.00\">*</text>\n",
       "</g>\n",
       "<!-- 1414721712144&#45;&gt;1414721698256* -->\n",
       "<g id=\"edge4\" class=\"edge\">\n",
       "<title>1414721712144&#45;&gt;1414721698256*</title>\n",
       "<path fill=\"none\" stroke=\"black\" d=\"M821.5,-88.6C830.64,-90.19 839.48,-91.73 847.5,-93.13\"/>\n",
       "<polygon fill=\"black\" stroke=\"black\" points=\"846.66,-96.54 857.12,-94.81 847.87,-89.64 846.66,-96.54\"/>\n",
       "</g>\n",
       "<!-- 1414721712144+ -->\n",
       "<g id=\"node2\" class=\"node\">\n",
       "<title>1414721712144+</title>\n",
       "<ellipse fill=\"none\" stroke=\"black\" cx=\"571.5\" cy=\"-72.5\" rx=\"27\" ry=\"18\"/>\n",
       "<text text-anchor=\"middle\" x=\"571.5\" y=\"-67.08\" font-family=\"Times New Roman,serif\" font-size=\"14.00\">+</text>\n",
       "</g>\n",
       "<!-- 1414721712144+&#45;&gt;1414721712144 -->\n",
       "<g id=\"edge1\" class=\"edge\">\n",
       "<title>1414721712144+&#45;&gt;1414721712144</title>\n",
       "<path fill=\"none\" stroke=\"black\" d=\"M598.75,-72.5C606.11,-72.5 614.58,-72.5 623.59,-72.5\"/>\n",
       "<polygon fill=\"black\" stroke=\"black\" points=\"623.3,-76 633.3,-72.5 623.3,-69 623.3,-76\"/>\n",
       "</g>\n",
       "<!-- 1414723057360 -->\n",
       "<g id=\"node3\" class=\"node\">\n",
       "<title>1414723057360</title>\n",
       "<polygon fill=\"none\" stroke=\"black\" points=\"3,-55.5 3,-91.5 187.5,-91.5 187.5,-55.5 3,-55.5\"/>\n",
       "<text text-anchor=\"middle\" x=\"14\" y=\"-68.2\" font-family=\"Times New Roman,serif\" font-size=\"14.00\">a</text>\n",
       "<polyline fill=\"none\" stroke=\"black\" points=\"25,-55.75 25,-91.5\"/>\n",
       "<text text-anchor=\"middle\" x=\"65.25\" y=\"-68.2\" font-family=\"Times New Roman,serif\" font-size=\"14.00\">data 2.0000</text>\n",
       "<polyline fill=\"none\" stroke=\"black\" points=\"105.5,-55.75 105.5,-91.5\"/>\n",
       "<text text-anchor=\"middle\" x=\"146.5\" y=\"-68.2\" font-family=\"Times New Roman,serif\" font-size=\"14.00\">grad 0.0000</text>\n",
       "</g>\n",
       "<!-- 1414723055952* -->\n",
       "<g id=\"node7\" class=\"node\">\n",
       "<title>1414723055952*</title>\n",
       "<ellipse fill=\"none\" stroke=\"black\" cx=\"253.5\" cy=\"-45.5\" rx=\"27\" ry=\"18\"/>\n",
       "<text text-anchor=\"middle\" x=\"253.5\" y=\"-40.08\" font-family=\"Times New Roman,serif\" font-size=\"14.00\">*</text>\n",
       "</g>\n",
       "<!-- 1414723057360&#45;&gt;1414723055952* -->\n",
       "<g id=\"edge6\" class=\"edge\">\n",
       "<title>1414723057360&#45;&gt;1414723055952*</title>\n",
       "<path fill=\"none\" stroke=\"black\" d=\"M187.59,-57.13C197.51,-55.35 207.14,-53.63 215.8,-52.08\"/>\n",
       "<polygon fill=\"black\" stroke=\"black\" points=\"216.25,-55.55 225.48,-50.34 215.02,-48.66 216.25,-55.55\"/>\n",
       "</g>\n",
       "<!-- 1414723058384 -->\n",
       "<g id=\"node4\" class=\"node\">\n",
       "<title>1414723058384</title>\n",
       "<polygon fill=\"none\" stroke=\"black\" points=\"316.5,-82.5 316.5,-118.5 508.5,-118.5 508.5,-82.5 316.5,-82.5\"/>\n",
       "<text text-anchor=\"middle\" x=\"327.88\" y=\"-95.2\" font-family=\"Times New Roman,serif\" font-size=\"14.00\">c</text>\n",
       "<polyline fill=\"none\" stroke=\"black\" points=\"339.25,-82.75 339.25,-118.5\"/>\n",
       "<text text-anchor=\"middle\" x=\"382.88\" y=\"-95.2\" font-family=\"Times New Roman,serif\" font-size=\"14.00\">data 10.0000</text>\n",
       "<polyline fill=\"none\" stroke=\"black\" points=\"426.5,-82.75 426.5,-118.5\"/>\n",
       "<text text-anchor=\"middle\" x=\"467.5\" y=\"-95.2\" font-family=\"Times New Roman,serif\" font-size=\"14.00\">grad 0.0000</text>\n",
       "</g>\n",
       "<!-- 1414723058384&#45;&gt;1414721712144+ -->\n",
       "<g id=\"edge8\" class=\"edge\">\n",
       "<title>1414723058384&#45;&gt;1414721712144+</title>\n",
       "<path fill=\"none\" stroke=\"black\" d=\"M508.9,-83.49C517.68,-81.92 526.17,-80.41 533.89,-79.03\"/>\n",
       "<polygon fill=\"black\" stroke=\"black\" points=\"534.25,-82.52 543.48,-77.32 533.02,-75.63 534.25,-82.52\"/>\n",
       "</g>\n",
       "<!-- 1414723055312 -->\n",
       "<g id=\"node5\" class=\"node\">\n",
       "<title>1414723055312</title>\n",
       "<polygon fill=\"none\" stroke=\"black\" points=\"634.5,-109.5 634.5,-145.5 822,-145.5 822,-109.5 634.5,-109.5\"/>\n",
       "<text text-anchor=\"middle\" x=\"644.75\" y=\"-122.2\" font-family=\"Times New Roman,serif\" font-size=\"14.00\">f</text>\n",
       "<polyline fill=\"none\" stroke=\"black\" points=\"655,-109.75 655,-145.5\"/>\n",
       "<text text-anchor=\"middle\" x=\"697.5\" y=\"-122.2\" font-family=\"Times New Roman,serif\" font-size=\"14.00\">data &#45;2.0000</text>\n",
       "<polyline fill=\"none\" stroke=\"black\" points=\"740,-109.75 740,-145.5\"/>\n",
       "<text text-anchor=\"middle\" x=\"781\" y=\"-122.2\" font-family=\"Times New Roman,serif\" font-size=\"14.00\">grad 0.0000</text>\n",
       "</g>\n",
       "<!-- 1414723055312&#45;&gt;1414721698256* -->\n",
       "<g id=\"edge9\" class=\"edge\">\n",
       "<title>1414723055312&#45;&gt;1414721698256*</title>\n",
       "<path fill=\"none\" stroke=\"black\" d=\"M822.39,-110.65C831.15,-109.06 839.63,-107.53 847.34,-106.13\"/>\n",
       "<polygon fill=\"black\" stroke=\"black\" points=\"847.71,-109.62 856.93,-104.4 846.46,-102.73 847.71,-109.62\"/>\n",
       "</g>\n",
       "<!-- 1414723055952 -->\n",
       "<g id=\"node6\" class=\"node\">\n",
       "<title>1414723055952</title>\n",
       "<polygon fill=\"none\" stroke=\"black\" points=\"318,-27.5 318,-63.5 507,-63.5 507,-27.5 318,-27.5\"/>\n",
       "<text text-anchor=\"middle\" x=\"329\" y=\"-40.2\" font-family=\"Times New Roman,serif\" font-size=\"14.00\">e</text>\n",
       "<polyline fill=\"none\" stroke=\"black\" points=\"340,-27.75 340,-63.5\"/>\n",
       "<text text-anchor=\"middle\" x=\"382.5\" y=\"-40.2\" font-family=\"Times New Roman,serif\" font-size=\"14.00\">data &#45;6.0000</text>\n",
       "<polyline fill=\"none\" stroke=\"black\" points=\"425,-27.75 425,-63.5\"/>\n",
       "<text text-anchor=\"middle\" x=\"466\" y=\"-40.2\" font-family=\"Times New Roman,serif\" font-size=\"14.00\">grad 0.0000</text>\n",
       "</g>\n",
       "<!-- 1414723055952&#45;&gt;1414721712144+ -->\n",
       "<g id=\"edge7\" class=\"edge\">\n",
       "<title>1414723055952&#45;&gt;1414721712144+</title>\n",
       "<path fill=\"none\" stroke=\"black\" d=\"M507.09,-61.6C516.45,-63.2 525.5,-64.76 533.71,-66.17\"/>\n",
       "<polygon fill=\"black\" stroke=\"black\" points=\"533.1,-69.62 543.55,-67.87 534.29,-62.72 533.1,-69.62\"/>\n",
       "</g>\n",
       "<!-- 1414723055952*&#45;&gt;1414723055952 -->\n",
       "<g id=\"edge2\" class=\"edge\">\n",
       "<title>1414723055952*&#45;&gt;1414723055952</title>\n",
       "<path fill=\"none\" stroke=\"black\" d=\"M280.78,-45.5C288.29,-45.5 296.96,-45.5 306.2,-45.5\"/>\n",
       "<polygon fill=\"black\" stroke=\"black\" points=\"306.2,-49 316.2,-45.5 306.2,-42 306.2,-49\"/>\n",
       "</g>\n",
       "<!-- 1414722697552 -->\n",
       "<g id=\"node8\" class=\"node\">\n",
       "<title>1414722697552</title>\n",
       "<polygon fill=\"none\" stroke=\"black\" points=\"0,-0.5 0,-36.5 190.5,-36.5 190.5,-0.5 0,-0.5\"/>\n",
       "<text text-anchor=\"middle\" x=\"11.75\" y=\"-13.2\" font-family=\"Times New Roman,serif\" font-size=\"14.00\">b</text>\n",
       "<polyline fill=\"none\" stroke=\"black\" points=\"23.5,-0.75 23.5,-36.5\"/>\n",
       "<text text-anchor=\"middle\" x=\"66\" y=\"-13.2\" font-family=\"Times New Roman,serif\" font-size=\"14.00\">data &#45;3.0000</text>\n",
       "<polyline fill=\"none\" stroke=\"black\" points=\"108.5,-0.75 108.5,-36.5\"/>\n",
       "<text text-anchor=\"middle\" x=\"149.5\" y=\"-13.2\" font-family=\"Times New Roman,serif\" font-size=\"14.00\">grad 0.0000</text>\n",
       "</g>\n",
       "<!-- 1414722697552&#45;&gt;1414723055952* -->\n",
       "<g id=\"edge5\" class=\"edge\">\n",
       "<title>1414722697552&#45;&gt;1414723055952*</title>\n",
       "<path fill=\"none\" stroke=\"black\" d=\"M190.75,-34.83C199.54,-36.35 208.04,-37.82 215.78,-39.15\"/>\n",
       "<polygon fill=\"black\" stroke=\"black\" points=\"214.94,-42.56 225.39,-40.81 216.13,-35.66 214.94,-42.56\"/>\n",
       "</g>\n",
       "<!-- 1414721698256 -->\n",
       "<g id=\"node9\" class=\"node\">\n",
       "<title>1414721698256</title>\n",
       "<polygon fill=\"none\" stroke=\"black\" points=\"948,-81.5 948,-117.5 1139.25,-117.5 1139.25,-81.5 948,-81.5\"/>\n",
       "<text text-anchor=\"middle\" x=\"960.12\" y=\"-94.2\" font-family=\"Times New Roman,serif\" font-size=\"14.00\">L</text>\n",
       "<polyline fill=\"none\" stroke=\"black\" points=\"972.25,-81.75 972.25,-117.5\"/>\n",
       "<text text-anchor=\"middle\" x=\"1014.75\" y=\"-94.2\" font-family=\"Times New Roman,serif\" font-size=\"14.00\">data &#45;8.0000</text>\n",
       "<polyline fill=\"none\" stroke=\"black\" points=\"1057.25,-81.75 1057.25,-117.5\"/>\n",
       "<text text-anchor=\"middle\" x=\"1098.25\" y=\"-94.2\" font-family=\"Times New Roman,serif\" font-size=\"14.00\">grad 0.0000</text>\n",
       "</g>\n",
       "<!-- 1414721698256*&#45;&gt;1414721698256 -->\n",
       "<g id=\"edge3\" class=\"edge\">\n",
       "<title>1414721698256*&#45;&gt;1414721698256</title>\n",
       "<path fill=\"none\" stroke=\"black\" d=\"M912.22,-99.5C919.38,-99.5 927.61,-99.5 936.37,-99.5\"/>\n",
       "<polygon fill=\"black\" stroke=\"black\" points=\"936.21,-103 946.21,-99.5 936.21,-96 936.21,-103\"/>\n",
       "</g>\n",
       "</g>\n",
       "</svg>\n"
      ],
      "text/plain": [
       "<graphviz.graphs.Digraph at 0x14963eb4250>"
      ]
     },
     "execution_count": 10,
     "metadata": {},
     "output_type": "execute_result"
    }
   ],
   "source": [
    "draw_dot(L)"
   ]
  },
  {
   "cell_type": "code",
   "execution_count": 11,
   "metadata": {},
   "outputs": [
    {
     "name": "stdout",
     "output_type": "stream",
     "text": [
      "-8.0\n"
     ]
    }
   ],
   "source": [
    "a.data += 0.01 * a.grad\n",
    "b.data += 0.01 * b.grad\n",
    "c.data += 0.01 * c.grad\n",
    "f.data += 0.01 * f.grad\n",
    "\n",
    "e = a * b\n",
    "d = e + c\n",
    "L = d * f\n",
    "\n",
    "print(L.data)\n"
   ]
  },
  {
   "cell_type": "code",
   "execution_count": 12,
   "metadata": {},
   "outputs": [
    {
     "name": "stdout",
     "output_type": "stream",
     "text": [
      "-3.9999999999995595\n"
     ]
    }
   ],
   "source": [
    "def lol():\n",
    "  \n",
    "  h = 0.001\n",
    "  \n",
    "  a = Value(2.0, label='a')\n",
    "  b = Value(-3.0, label='b')\n",
    "  c = Value(10.0, label='c')\n",
    "  e = a*b; e.label = 'e'\n",
    "  d = e + c; d.label = 'd'\n",
    "  f = Value(-2.0, label='f')\n",
    "  L = d * f; L.label = 'L'\n",
    "  L1 = L.data\n",
    "  \n",
    "  a = Value(2.0, label='a')\n",
    "  b = Value(-3.0, label='b')\n",
    "  b.data += h\n",
    "  c = Value(10.0, label='c')\n",
    "  e = a*b; e.label = 'e'\n",
    "  d = e + c; d.label = 'd'\n",
    "  f = Value(-2.0, label='f')\n",
    "  L = d * f; L.label = 'L'\n",
    "  L2 = L.data\n",
    "  \n",
    "  print((L2 - L1)/h)\n",
    "  \n",
    "lol()"
   ]
  },
  {
   "cell_type": "code",
   "execution_count": 13,
   "metadata": {},
   "outputs": [
    {
     "data": {
      "image/png": "[encoded data removed]",
      "text/plain": [
       "<Figure size 640x480 with 1 Axes>"
      ]
     },
     "metadata": {},
     "output_type": "display_data"
    }
   ],
   "source": [
    "plt.plot(np.arange(-5,5,0.2), np.tanh(np.arange(-5,5,0.2))); plt.grid();"
   ]
  },
  {
   "cell_type": "code",
   "execution_count": 14,
   "metadata": {},
   "outputs": [],
   "source": [
    "# inputs x1,x2\n",
    "x1 = Value(2.0, label='x1')\n",
    "x2 = Value(0.0, label='x2')\n",
    "# weights w1,w2\n",
    "w1 = Value(-3.0, label='w1')\n",
    "w2 = Value(1.0, label='w2')\n",
    "# bias of the neuron\n",
    "b = Value(6.8813735870195432, label='b')\n",
    "# x1*w1 + x2*w2 + b\n",
    "x1w1 = x1*w1; x1w1.label = 'x1*w1'\n",
    "x2w2 = x2*w2; x2w2.label = 'x2*w2'\n",
    "x1w1x2w2 = x1w1 + x2w2; x1w1x2w2.label = 'x1*w1 + x2*w2'\n",
    "n = x1w1x2w2 + b; n.label = 'n'\n",
    "o = n.tanh(); o.label = 'o'"
   ]
  },
  {
   "cell_type": "code",
   "execution_count": 15,
   "metadata": {},
   "outputs": [
    {
     "data": {
      "image/svg+xml": [
       "<?xml version=\"1.0\" encoding=\"UTF-8\" standalone=\"no\"?>\n",
       "<!DOCTYPE svg PUBLIC \"-//W3C//DTD SVG 1.1//EN\"\n",
       " \"http://www.w3.org/Graphics/SVG/1.1/DTD/svg11.dtd\">\n",
       "<!-- Generated by graphviz version 12.0.0 (20240704.0754)\n",
       " -->\n",
       "<!-- Pages: 1 -->\n",
       "<svg width=\"1575pt\" height=\"210pt\"\n",
       " viewBox=\"0.00 0.00 1574.75 210.00\" xmlns=\"http://www.w3.org/2000/svg\" xmlns:xlink=\"http://www.w3.org/1999/xlink\">\n",
       "<g id=\"graph0\" class=\"graph\" transform=\"scale(1 1) rotate(0) translate(4 206)\">\n",
       "<polygon fill=\"white\" stroke=\"none\" points=\"-4,4 -4,-206 1570.75,-206 1570.75,4 -4,4\"/>\n",
       "<!-- 1414723824656 -->\n",
       "<g id=\"node1\" class=\"node\">\n",
       "<title>1414723824656</title>\n",
       "<polygon fill=\"none\" stroke=\"black\" points=\"714.38,-137.5 714.38,-173.5 900.38,-173.5 900.38,-137.5 714.38,-137.5\"/>\n",
       "<text text-anchor=\"middle\" x=\"726.12\" y=\"-150.2\" font-family=\"Times New Roman,serif\" font-size=\"14.00\">b</text>\n",
       "<polyline fill=\"none\" stroke=\"black\" points=\"737.88,-137.75 737.88,-173.5\"/>\n",
       "<text text-anchor=\"middle\" x=\"778.12\" y=\"-150.2\" font-family=\"Times New Roman,serif\" font-size=\"14.00\">data 6.8814</text>\n",
       "<polyline fill=\"none\" stroke=\"black\" points=\"818.38,-137.75 818.38,-173.5\"/>\n",
       "<text text-anchor=\"middle\" x=\"859.38\" y=\"-150.2\" font-family=\"Times New Roman,serif\" font-size=\"14.00\">grad 0.0000</text>\n",
       "</g>\n",
       "<!-- 1414723826768+ -->\n",
       "<g id=\"node3\" class=\"node\">\n",
       "<title>1414723826768+</title>\n",
       "<ellipse fill=\"none\" stroke=\"black\" cx=\"1006.5\" cy=\"-127.5\" rx=\"27\" ry=\"18\"/>\n",
       "<text text-anchor=\"middle\" x=\"1006.5\" y=\"-122.08\" font-family=\"Times New Roman,serif\" font-size=\"14.00\">+</text>\n",
       "</g>\n",
       "<!-- 1414723824656&#45;&gt;1414723826768+ -->\n",
       "<g id=\"edge13\" class=\"edge\">\n",
       "<title>1414723824656&#45;&gt;1414723826768+</title>\n",
       "<path fill=\"none\" stroke=\"black\" d=\"M900.59,-142.4C924.65,-138.98 949.22,-135.49 968.53,-132.75\"/>\n",
       "<polygon fill=\"black\" stroke=\"black\" points=\"968.92,-136.23 978.32,-131.36 967.93,-129.3 968.92,-136.23\"/>\n",
       "</g>\n",
       "<!-- 1414723826768 -->\n",
       "<g id=\"node2\" class=\"node\">\n",
       "<title>1414723826768</title>\n",
       "<polygon fill=\"none\" stroke=\"black\" points=\"1069.5,-109.5 1069.5,-145.5 1254.75,-145.5 1254.75,-109.5 1069.5,-109.5\"/>\n",
       "<text text-anchor=\"middle\" x=\"1080.88\" y=\"-122.2\" font-family=\"Times New Roman,serif\" font-size=\"14.00\">n</text>\n",
       "<polyline fill=\"none\" stroke=\"black\" points=\"1092.25,-109.75 1092.25,-145.5\"/>\n",
       "<text text-anchor=\"middle\" x=\"1132.5\" y=\"-122.2\" font-family=\"Times New Roman,serif\" font-size=\"14.00\">data 0.8814</text>\n",
       "<polyline fill=\"none\" stroke=\"black\" points=\"1172.75,-109.75 1172.75,-145.5\"/>\n",
       "<text text-anchor=\"middle\" x=\"1213.75\" y=\"-122.2\" font-family=\"Times New Roman,serif\" font-size=\"14.00\">grad 0.0000</text>\n",
       "</g>\n",
       "<!-- 1414331961040tanh -->\n",
       "<g id=\"node9\" class=\"node\">\n",
       "<title>1414331961040tanh</title>\n",
       "<ellipse fill=\"none\" stroke=\"black\" cx=\"1317.75\" cy=\"-127.5\" rx=\"27\" ry=\"18\"/>\n",
       "<text text-anchor=\"middle\" x=\"1317.75\" y=\"-122.08\" font-family=\"Times New Roman,serif\" font-size=\"14.00\">tanh</text>\n",
       "</g>\n",
       "<!-- 1414723826768&#45;&gt;1414331961040tanh -->\n",
       "<g id=\"edge11\" class=\"edge\">\n",
       "<title>1414723826768&#45;&gt;1414331961040tanh</title>\n",
       "<path fill=\"none\" stroke=\"black\" d=\"M1255.15,-127.5C1263.52,-127.5 1271.64,-127.5 1279.09,-127.5\"/>\n",
       "<polygon fill=\"black\" stroke=\"black\" points=\"1279.03,-131 1289.03,-127.5 1279.03,-124 1279.03,-131\"/>\n",
       "</g>\n",
       "<!-- 1414723826768+&#45;&gt;1414723826768 -->\n",
       "<g id=\"edge1\" class=\"edge\">\n",
       "<title>1414723826768+&#45;&gt;1414723826768</title>\n",
       "<path fill=\"none\" stroke=\"black\" d=\"M1033.91,-127.5C1040.95,-127.5 1049,-127.5 1057.55,-127.5\"/>\n",
       "<polygon fill=\"black\" stroke=\"black\" points=\"1057.54,-131 1067.54,-127.5 1057.54,-124 1057.54,-131\"/>\n",
       "</g>\n",
       "<!-- 1414723823696 -->\n",
       "<g id=\"node4\" class=\"node\">\n",
       "<title>1414723823696</title>\n",
       "<polygon fill=\"none\" stroke=\"black\" points=\"327.75,-110.5 327.75,-146.5 543,-146.5 543,-110.5 327.75,-110.5\"/>\n",
       "<text text-anchor=\"middle\" x=\"354.12\" y=\"-123.2\" font-family=\"Times New Roman,serif\" font-size=\"14.00\">x2*w2</text>\n",
       "<polyline fill=\"none\" stroke=\"black\" points=\"380.5,-110.75 380.5,-146.5\"/>\n",
       "<text text-anchor=\"middle\" x=\"420.75\" y=\"-123.2\" font-family=\"Times New Roman,serif\" font-size=\"14.00\">data 0.0000</text>\n",
       "<polyline fill=\"none\" stroke=\"black\" points=\"461,-110.75 461,-146.5\"/>\n",
       "<text text-anchor=\"middle\" x=\"502\" y=\"-123.2\" font-family=\"Times New Roman,serif\" font-size=\"14.00\">grad 0.0000</text>\n",
       "</g>\n",
       "<!-- 1414723828560+ -->\n",
       "<g id=\"node14\" class=\"node\">\n",
       "<title>1414723828560+</title>\n",
       "<ellipse fill=\"none\" stroke=\"black\" cx=\"608.25\" cy=\"-100.5\" rx=\"27\" ry=\"18\"/>\n",
       "<text text-anchor=\"middle\" x=\"608.25\" y=\"-95.08\" font-family=\"Times New Roman,serif\" font-size=\"14.00\">+</text>\n",
       "</g>\n",
       "<!-- 1414723823696&#45;&gt;1414723828560+ -->\n",
       "<g id=\"edge12\" class=\"edge\">\n",
       "<title>1414723823696&#45;&gt;1414723828560+</title>\n",
       "<path fill=\"none\" stroke=\"black\" d=\"M543.14,-111.01C552.86,-109.41 562.18,-107.88 570.57,-106.51\"/>\n",
       "<polygon fill=\"black\" stroke=\"black\" points=\"570.94,-110 580.25,-104.92 569.81,-103.09 570.94,-110\"/>\n",
       "</g>\n",
       "<!-- 1414723823696* -->\n",
       "<g id=\"node5\" class=\"node\">\n",
       "<title>1414723823696*</title>\n",
       "<ellipse fill=\"none\" stroke=\"black\" cx=\"262.5\" cy=\"-128.5\" rx=\"27\" ry=\"18\"/>\n",
       "<text text-anchor=\"middle\" x=\"262.5\" y=\"-123.08\" font-family=\"Times New Roman,serif\" font-size=\"14.00\">*</text>\n",
       "</g>\n",
       "<!-- 1414723823696*&#45;&gt;1414723823696 -->\n",
       "<g id=\"edge2\" class=\"edge\">\n",
       "<title>1414723823696*&#45;&gt;1414723823696</title>\n",
       "<path fill=\"none\" stroke=\"black\" d=\"M289.82,-128.5C297.5,-128.5 306.41,-128.5 315.98,-128.5\"/>\n",
       "<polygon fill=\"black\" stroke=\"black\" points=\"315.97,-132 325.97,-128.5 315.97,-125 315.97,-132\"/>\n",
       "</g>\n",
       "<!-- 1414331920464 -->\n",
       "<g id=\"node6\" class=\"node\">\n",
       "<title>1414331920464</title>\n",
       "<polygon fill=\"none\" stroke=\"black\" points=\"2.25,-165.5 2.25,-201.5 197.25,-201.5 197.25,-165.5 2.25,-165.5\"/>\n",
       "<text text-anchor=\"middle\" x=\"18.5\" y=\"-178.2\" font-family=\"Times New Roman,serif\" font-size=\"14.00\">w2</text>\n",
       "<polyline fill=\"none\" stroke=\"black\" points=\"34.75,-165.75 34.75,-201.5\"/>\n",
       "<text text-anchor=\"middle\" x=\"75\" y=\"-178.2\" font-family=\"Times New Roman,serif\" font-size=\"14.00\">data 1.0000</text>\n",
       "<polyline fill=\"none\" stroke=\"black\" points=\"115.25,-165.75 115.25,-201.5\"/>\n",
       "<text text-anchor=\"middle\" x=\"156.25\" y=\"-178.2\" font-family=\"Times New Roman,serif\" font-size=\"14.00\">grad 0.0000</text>\n",
       "</g>\n",
       "<!-- 1414331920464&#45;&gt;1414723823696* -->\n",
       "<g id=\"edge7\" class=\"edge\">\n",
       "<title>1414331920464&#45;&gt;1414723823696*</title>\n",
       "<path fill=\"none\" stroke=\"black\" d=\"M173.43,-165.03C182.28,-162.37 191.14,-159.51 199.5,-156.5 209.59,-152.87 220.33,-148.29 229.98,-143.89\"/>\n",
       "<polygon fill=\"black\" stroke=\"black\" points=\"231.37,-147.1 238.95,-139.7 228.41,-140.76 231.37,-147.1\"/>\n",
       "</g>\n",
       "<!-- 1414723793040 -->\n",
       "<g id=\"node7\" class=\"node\">\n",
       "<title>1414723793040</title>\n",
       "<polygon fill=\"none\" stroke=\"black\" points=\"3.75,-55.5 3.75,-91.5 195.75,-91.5 195.75,-55.5 3.75,-55.5\"/>\n",
       "<text text-anchor=\"middle\" x=\"18.5\" y=\"-68.2\" font-family=\"Times New Roman,serif\" font-size=\"14.00\">x1</text>\n",
       "<polyline fill=\"none\" stroke=\"black\" points=\"33.25,-55.75 33.25,-91.5\"/>\n",
       "<text text-anchor=\"middle\" x=\"73.5\" y=\"-68.2\" font-family=\"Times New Roman,serif\" font-size=\"14.00\">data 2.0000</text>\n",
       "<polyline fill=\"none\" stroke=\"black\" points=\"113.75,-55.75 113.75,-91.5\"/>\n",
       "<text text-anchor=\"middle\" x=\"154.75\" y=\"-68.2\" font-family=\"Times New Roman,serif\" font-size=\"14.00\">grad 0.0000</text>\n",
       "</g>\n",
       "<!-- 1414723057872* -->\n",
       "<g id=\"node11\" class=\"node\">\n",
       "<title>1414723057872*</title>\n",
       "<ellipse fill=\"none\" stroke=\"black\" cx=\"262.5\" cy=\"-73.5\" rx=\"27\" ry=\"18\"/>\n",
       "<text text-anchor=\"middle\" x=\"262.5\" y=\"-68.08\" font-family=\"Times New Roman,serif\" font-size=\"14.00\">*</text>\n",
       "</g>\n",
       "<!-- 1414723793040&#45;&gt;1414723057872* -->\n",
       "<g id=\"edge9\" class=\"edge\">\n",
       "<title>1414723793040&#45;&gt;1414723057872*</title>\n",
       "<path fill=\"none\" stroke=\"black\" d=\"M196.12,-73.5C205.86,-73.5 215.3,-73.5 223.83,-73.5\"/>\n",
       "<polygon fill=\"black\" stroke=\"black\" points=\"223.71,-77 233.71,-73.5 223.71,-70 223.71,-77\"/>\n",
       "</g>\n",
       "<!-- 1414331961040 -->\n",
       "<g id=\"node8\" class=\"node\">\n",
       "<title>1414331961040</title>\n",
       "<polygon fill=\"none\" stroke=\"black\" points=\"1380.75,-109.5 1380.75,-145.5 1566.75,-145.5 1566.75,-109.5 1380.75,-109.5\"/>\n",
       "<text text-anchor=\"middle\" x=\"1392.5\" y=\"-122.2\" font-family=\"Times New Roman,serif\" font-size=\"14.00\">o</text>\n",
       "<polyline fill=\"none\" stroke=\"black\" points=\"1404.25,-109.75 1404.25,-145.5\"/>\n",
       "<text text-anchor=\"middle\" x=\"1444.5\" y=\"-122.2\" font-family=\"Times New Roman,serif\" font-size=\"14.00\">data 0.7071</text>\n",
       "<polyline fill=\"none\" stroke=\"black\" points=\"1484.75,-109.75 1484.75,-145.5\"/>\n",
       "<text text-anchor=\"middle\" x=\"1525.75\" y=\"-122.2\" font-family=\"Times New Roman,serif\" font-size=\"14.00\">grad 0.0000</text>\n",
       "</g>\n",
       "<!-- 1414331961040tanh&#45;&gt;1414331961040 -->\n",
       "<g id=\"edge3\" class=\"edge\">\n",
       "<title>1414331961040tanh&#45;&gt;1414331961040</title>\n",
       "<path fill=\"none\" stroke=\"black\" d=\"M1345.22,-127.5C1352.36,-127.5 1360.53,-127.5 1369.21,-127.5\"/>\n",
       "<polygon fill=\"black\" stroke=\"black\" points=\"1368.94,-131 1378.94,-127.5 1368.94,-124 1368.94,-131\"/>\n",
       "</g>\n",
       "<!-- 1414723057872 -->\n",
       "<g id=\"node10\" class=\"node\">\n",
       "<title>1414723057872</title>\n",
       "<polygon fill=\"none\" stroke=\"black\" points=\"325.5,-55.5 325.5,-91.5 545.25,-91.5 545.25,-55.5 325.5,-55.5\"/>\n",
       "<text text-anchor=\"middle\" x=\"351.88\" y=\"-68.2\" font-family=\"Times New Roman,serif\" font-size=\"14.00\">x1*w1</text>\n",
       "<polyline fill=\"none\" stroke=\"black\" points=\"378.25,-55.75 378.25,-91.5\"/>\n",
       "<text text-anchor=\"middle\" x=\"420.75\" y=\"-68.2\" font-family=\"Times New Roman,serif\" font-size=\"14.00\">data &#45;6.0000</text>\n",
       "<polyline fill=\"none\" stroke=\"black\" points=\"463.25,-55.75 463.25,-91.5\"/>\n",
       "<text text-anchor=\"middle\" x=\"504.25\" y=\"-68.2\" font-family=\"Times New Roman,serif\" font-size=\"14.00\">grad 0.0000</text>\n",
       "</g>\n",
       "<!-- 1414723057872&#45;&gt;1414723828560+ -->\n",
       "<g id=\"edge10\" class=\"edge\">\n",
       "<title>1414723057872&#45;&gt;1414723828560+</title>\n",
       "<path fill=\"none\" stroke=\"black\" d=\"M545.56,-90.75C554.32,-92.14 562.71,-93.46 570.34,-94.67\"/>\n",
       "<polygon fill=\"black\" stroke=\"black\" points=\"569.7,-98.11 580.13,-96.21 570.8,-91.2 569.7,-98.11\"/>\n",
       "</g>\n",
       "<!-- 1414723057872*&#45;&gt;1414723057872 -->\n",
       "<g id=\"edge4\" class=\"edge\">\n",
       "<title>1414723057872*&#45;&gt;1414723057872</title>\n",
       "<path fill=\"none\" stroke=\"black\" d=\"M289.82,-73.5C296.93,-73.5 305.11,-73.5 313.89,-73.5\"/>\n",
       "<polygon fill=\"black\" stroke=\"black\" points=\"313.78,-77 323.78,-73.5 313.78,-70 313.78,-77\"/>\n",
       "</g>\n",
       "<!-- 1414331924240 -->\n",
       "<g id=\"node12\" class=\"node\">\n",
       "<title>1414331924240</title>\n",
       "<polygon fill=\"none\" stroke=\"black\" points=\"0,-0.5 0,-36.5 199.5,-36.5 199.5,-0.5 0,-0.5\"/>\n",
       "<text text-anchor=\"middle\" x=\"16.25\" y=\"-13.2\" font-family=\"Times New Roman,serif\" font-size=\"14.00\">w1</text>\n",
       "<polyline fill=\"none\" stroke=\"black\" points=\"32.5,-0.75 32.5,-36.5\"/>\n",
       "<text text-anchor=\"middle\" x=\"75\" y=\"-13.2\" font-family=\"Times New Roman,serif\" font-size=\"14.00\">data &#45;3.0000</text>\n",
       "<polyline fill=\"none\" stroke=\"black\" points=\"117.5,-0.75 117.5,-36.5\"/>\n",
       "<text text-anchor=\"middle\" x=\"158.5\" y=\"-13.2\" font-family=\"Times New Roman,serif\" font-size=\"14.00\">grad 0.0000</text>\n",
       "</g>\n",
       "<!-- 1414331924240&#45;&gt;1414723057872* -->\n",
       "<g id=\"edge6\" class=\"edge\">\n",
       "<title>1414331924240&#45;&gt;1414723057872*</title>\n",
       "<path fill=\"none\" stroke=\"black\" d=\"M170.45,-36.99C180.27,-39.97 190.19,-43.17 199.5,-46.5 209.46,-50.06 220.09,-54.46 229.68,-58.67\"/>\n",
       "<polygon fill=\"black\" stroke=\"black\" points=\"228.04,-61.77 238.6,-62.66 230.9,-55.38 228.04,-61.77\"/>\n",
       "</g>\n",
       "<!-- 1414723828560 -->\n",
       "<g id=\"node13\" class=\"node\">\n",
       "<title>1414723828560</title>\n",
       "<polygon fill=\"none\" stroke=\"black\" points=\"671.25,-82.5 671.25,-118.5 943.5,-118.5 943.5,-82.5 671.25,-82.5\"/>\n",
       "<text text-anchor=\"middle\" x=\"723.88\" y=\"-95.2\" font-family=\"Times New Roman,serif\" font-size=\"14.00\">x1*w1 + x2*w2</text>\n",
       "<polyline fill=\"none\" stroke=\"black\" points=\"776.5,-82.75 776.5,-118.5\"/>\n",
       "<text text-anchor=\"middle\" x=\"819\" y=\"-95.2\" font-family=\"Times New Roman,serif\" font-size=\"14.00\">data &#45;6.0000</text>\n",
       "<polyline fill=\"none\" stroke=\"black\" points=\"861.5,-82.75 861.5,-118.5\"/>\n",
       "<text text-anchor=\"middle\" x=\"902.5\" y=\"-95.2\" font-family=\"Times New Roman,serif\" font-size=\"14.00\">grad 0.0000</text>\n",
       "</g>\n",
       "<!-- 1414723828560&#45;&gt;1414723826768+ -->\n",
       "<g id=\"edge14\" class=\"edge\">\n",
       "<title>1414723828560&#45;&gt;1414723826768+</title>\n",
       "<path fill=\"none\" stroke=\"black\" d=\"M943.4,-118.99C952.34,-120.22 960.81,-121.38 968.46,-122.43\"/>\n",
       "<polygon fill=\"black\" stroke=\"black\" points=\"967.87,-125.88 978.25,-123.77 968.82,-118.94 967.87,-125.88\"/>\n",
       "</g>\n",
       "<!-- 1414723828560+&#45;&gt;1414723828560 -->\n",
       "<g id=\"edge5\" class=\"edge\">\n",
       "<title>1414723828560+&#45;&gt;1414723828560</title>\n",
       "<path fill=\"none\" stroke=\"black\" d=\"M635.43,-100.5C642.57,-100.5 650.85,-100.5 659.84,-100.5\"/>\n",
       "<polygon fill=\"black\" stroke=\"black\" points=\"659.6,-104 669.6,-100.5 659.6,-97 659.6,-104\"/>\n",
       "</g>\n",
       "<!-- 1414721399760 -->\n",
       "<g id=\"node15\" class=\"node\">\n",
       "<title>1414721399760</title>\n",
       "<polygon fill=\"none\" stroke=\"black\" points=\"3.75,-110.5 3.75,-146.5 195.75,-146.5 195.75,-110.5 3.75,-110.5\"/>\n",
       "<text text-anchor=\"middle\" x=\"18.5\" y=\"-123.2\" font-family=\"Times New Roman,serif\" font-size=\"14.00\">x2</text>\n",
       "<polyline fill=\"none\" stroke=\"black\" points=\"33.25,-110.75 33.25,-146.5\"/>\n",
       "<text text-anchor=\"middle\" x=\"73.5\" y=\"-123.2\" font-family=\"Times New Roman,serif\" font-size=\"14.00\">data 0.0000</text>\n",
       "<polyline fill=\"none\" stroke=\"black\" points=\"113.75,-110.75 113.75,-146.5\"/>\n",
       "<text text-anchor=\"middle\" x=\"154.75\" y=\"-123.2\" font-family=\"Times New Roman,serif\" font-size=\"14.00\">grad 0.0000</text>\n",
       "</g>\n",
       "<!-- 1414721399760&#45;&gt;1414723823696* -->\n",
       "<g id=\"edge8\" class=\"edge\">\n",
       "<title>1414721399760&#45;&gt;1414723823696*</title>\n",
       "<path fill=\"none\" stroke=\"black\" d=\"M196.12,-128.5C205.86,-128.5 215.3,-128.5 223.83,-128.5\"/>\n",
       "<polygon fill=\"black\" stroke=\"black\" points=\"223.71,-132 233.71,-128.5 223.71,-125 223.71,-132\"/>\n",
       "</g>\n",
       "</g>\n",
       "</svg>\n"
      ],
      "text/plain": [
       "<graphviz.graphs.Digraph at 0x1496410a390>"
      ]
     },
     "execution_count": 15,
     "metadata": {},
     "output_type": "execute_result"
    }
   ],
   "source": [
    "draw_dot(o)"
   ]
  },
  {
   "cell_type": "code",
   "execution_count": 16,
   "metadata": {},
   "outputs": [],
   "source": [
    "o.backward()"
   ]
  },
  {
   "cell_type": "code",
   "execution_count": 17,
   "metadata": {},
   "outputs": [
    {
     "data": {
      "text/plain": [
       "[Value(data=6.881373587019543),\n",
       " Value(data=2.0),\n",
       " Value(data=-3.0),\n",
       " Value(data=-6.0),\n",
       " Value(data=1.0),\n",
       " Value(data=0.0),\n",
       " Value(data=0.0),\n",
       " Value(data=-6.0),\n",
       " Value(data=0.8813735870195432),\n",
       " Value(data=0.7071067811865476)]"
      ]
     },
     "execution_count": 17,
     "metadata": {},
     "output_type": "execute_result"
    }
   ],
   "source": [
    "topo = []\n",
    "visited = set()\n",
    "def build_topo(v):\n",
    "  if v not in visited:\n",
    "    visited.add(v)\n",
    "    for child in v._prev:\n",
    "      build_topo(child)\n",
    "    topo.append(v)\n",
    "build_topo(o)\n",
    "topo"
   ]
  },
  {
   "cell_type": "code",
   "execution_count": 18,
   "metadata": {},
   "outputs": [],
   "source": [
    "o.grad = 1.0"
   ]
  },
  {
   "cell_type": "code",
   "execution_count": 19,
   "metadata": {},
   "outputs": [],
   "source": [
    "o._backward()"
   ]
  },
  {
   "cell_type": "code",
   "execution_count": 20,
   "metadata": {},
   "outputs": [],
   "source": [
    "n._backward()"
   ]
  },
  {
   "cell_type": "code",
   "execution_count": 21,
   "metadata": {},
   "outputs": [],
   "source": [
    "b._backward()"
   ]
  },
  {
   "cell_type": "code",
   "execution_count": 22,
   "metadata": {},
   "outputs": [],
   "source": [
    "x1w1x2w2._backward()"
   ]
  },
  {
   "cell_type": "code",
   "execution_count": 23,
   "metadata": {},
   "outputs": [],
   "source": [
    "x2w2._backward()\n",
    "x1w1._backward()"
   ]
  },
  {
   "cell_type": "code",
   "execution_count": 24,
   "metadata": {},
   "outputs": [],
   "source": [
    "x1.grad = w1.data * x1w1.grad\n",
    "w1.grad = x1.data * x1w1.grad"
   ]
  },
  {
   "cell_type": "code",
   "execution_count": 25,
   "metadata": {},
   "outputs": [],
   "source": [
    "x2.grad = w2.data * x2w2.grad\n",
    "w2.grad = x2.data * x2w2.grad"
   ]
  },
  {
   "cell_type": "code",
   "execution_count": 26,
   "metadata": {},
   "outputs": [],
   "source": [
    "x1w1.grad = 0.5\n",
    "x2w2.grad = 0.5"
   ]
  },
  {
   "cell_type": "code",
   "execution_count": 27,
   "metadata": {},
   "outputs": [],
   "source": [
    "x1w1x2w2.grad = 0.5\n",
    "b.grad = 0.5"
   ]
  },
  {
   "cell_type": "code",
   "execution_count": 28,
   "metadata": {},
   "outputs": [],
   "source": [
    "n.grad = 0.5"
   ]
  },
  {
   "cell_type": "code",
   "execution_count": 29,
   "metadata": {},
   "outputs": [],
   "source": [
    "o.grad = 1.0"
   ]
  },
  {
   "cell_type": "code",
   "execution_count": 30,
   "metadata": {},
   "outputs": [
    {
     "data": {
      "text/plain": [
       "0.4999999999999999"
      ]
     },
     "execution_count": 30,
     "metadata": {},
     "output_type": "execute_result"
    }
   ],
   "source": [
    "1 - o.data**2"
   ]
  },
  {
   "cell_type": "code",
   "execution_count": 31,
   "metadata": {},
   "outputs": [],
   "source": [
    "# o = tanh(n)\n",
    "# do/dn = 1 - o**2"
   ]
  },
  {
   "cell_type": "code",
   "execution_count": 32,
   "metadata": {},
   "outputs": [
    {
     "data": {
      "image/svg+xml": [
       "<?xml version=\"1.0\" encoding=\"UTF-8\" standalone=\"no\"?>\n",
       "<!DOCTYPE svg PUBLIC \"-//W3C//DTD SVG 1.1//EN\"\n",
       " \"http://www.w3.org/Graphics/SVG/1.1/DTD/svg11.dtd\">\n",
       "<!-- Generated by graphviz version 12.0.0 (20240704.0754)\n",
       " -->\n",
       "<!-- Pages: 1 -->\n",
       "<svg width=\"505pt\" height=\"45pt\"\n",
       " viewBox=\"0.00 0.00 504.50 45.00\" xmlns=\"http://www.w3.org/2000/svg\" xmlns:xlink=\"http://www.w3.org/1999/xlink\">\n",
       "<g id=\"graph0\" class=\"graph\" transform=\"scale(1 1) rotate(0) translate(4 41)\">\n",
       "<polygon fill=\"white\" stroke=\"none\" points=\"-4,4 -4,-41 500.5,-41 500.5,4 -4,4\"/>\n",
       "<!-- 1414723982288 -->\n",
       "<g id=\"node1\" class=\"node\">\n",
       "<title>1414723982288</title>\n",
       "<polygon fill=\"none\" stroke=\"black\" points=\"0,-0.5 0,-36.5 184.5,-36.5 184.5,-0.5 0,-0.5\"/>\n",
       "<text text-anchor=\"middle\" x=\"11\" y=\"-13.2\" font-family=\"Times New Roman,serif\" font-size=\"14.00\">a</text>\n",
       "<polyline fill=\"none\" stroke=\"black\" points=\"22,-0.75 22,-36.5\"/>\n",
       "<text text-anchor=\"middle\" x=\"62.25\" y=\"-13.2\" font-family=\"Times New Roman,serif\" font-size=\"14.00\">data 3.0000</text>\n",
       "<polyline fill=\"none\" stroke=\"black\" points=\"102.5,-0.75 102.5,-36.5\"/>\n",
       "<text text-anchor=\"middle\" x=\"143.5\" y=\"-13.2\" font-family=\"Times New Roman,serif\" font-size=\"14.00\">grad 2.0000</text>\n",
       "</g>\n",
       "<!-- 1414723986640+ -->\n",
       "<g id=\"node3\" class=\"node\">\n",
       "<title>1414723986640+</title>\n",
       "<ellipse fill=\"none\" stroke=\"black\" cx=\"247.5\" cy=\"-18.5\" rx=\"27\" ry=\"18\"/>\n",
       "<text text-anchor=\"middle\" x=\"247.5\" y=\"-13.07\" font-family=\"Times New Roman,serif\" font-size=\"14.00\">+</text>\n",
       "</g>\n",
       "<!-- 1414723982288&#45;&gt;1414723986640+ -->\n",
       "<g id=\"edge2\" class=\"edge\">\n",
       "<title>1414723982288&#45;&gt;1414723986640+</title>\n",
       "<path fill=\"none\" stroke=\"black\" d=\"M184.61,-18.5C193.01,-18.5 201.16,-18.5 208.64,-18.5\"/>\n",
       "<polygon fill=\"black\" stroke=\"black\" points=\"208.64,-22 218.64,-18.5 208.64,-15 208.64,-22\"/>\n",
       "</g>\n",
       "<!-- 1414723986640 -->\n",
       "<g id=\"node2\" class=\"node\">\n",
       "<title>1414723986640</title>\n",
       "<polygon fill=\"none\" stroke=\"black\" points=\"310.5,-0.5 310.5,-36.5 496.5,-36.5 496.5,-0.5 310.5,-0.5\"/>\n",
       "<text text-anchor=\"middle\" x=\"322.25\" y=\"-13.2\" font-family=\"Times New Roman,serif\" font-size=\"14.00\">b</text>\n",
       "<polyline fill=\"none\" stroke=\"black\" points=\"334,-0.75 334,-36.5\"/>\n",
       "<text text-anchor=\"middle\" x=\"374.25\" y=\"-13.2\" font-family=\"Times New Roman,serif\" font-size=\"14.00\">data 6.0000</text>\n",
       "<polyline fill=\"none\" stroke=\"black\" points=\"414.5,-0.75 414.5,-36.5\"/>\n",
       "<text text-anchor=\"middle\" x=\"455.5\" y=\"-13.2\" font-family=\"Times New Roman,serif\" font-size=\"14.00\">grad 1.0000</text>\n",
       "</g>\n",
       "<!-- 1414723986640+&#45;&gt;1414723986640 -->\n",
       "<g id=\"edge1\" class=\"edge\">\n",
       "<title>1414723986640+&#45;&gt;1414723986640</title>\n",
       "<path fill=\"none\" stroke=\"black\" d=\"M274.97,-18.5C282.11,-18.5 290.28,-18.5 298.96,-18.5\"/>\n",
       "<polygon fill=\"black\" stroke=\"black\" points=\"298.69,-22 308.69,-18.5 298.69,-15 298.69,-22\"/>\n",
       "</g>\n",
       "</g>\n",
       "</svg>\n"
      ],
      "text/plain": [
       "<graphviz.graphs.Digraph at 0x149641ee790>"
      ]
     },
     "execution_count": 32,
     "metadata": {},
     "output_type": "execute_result"
    }
   ],
   "source": [
    "a = Value(3.0, label='a')\n",
    "b = a + a   ; b.label = 'b'\n",
    "b.backward()\n",
    "draw_dot(b)"
   ]
  },
  {
   "cell_type": "code",
   "execution_count": 33,
   "metadata": {},
   "outputs": [
    {
     "data": {
      "image/svg+xml": [
       "<?xml version=\"1.0\" encoding=\"UTF-8\" standalone=\"no\"?>\n",
       "<!DOCTYPE svg PUBLIC \"-//W3C//DTD SVG 1.1//EN\"\n",
       " \"http://www.w3.org/Graphics/SVG/1.1/DTD/svg11.dtd\">\n",
       "<!-- Generated by graphviz version 12.0.0 (20240704.0754)\n",
       " -->\n",
       "<!-- Pages: 1 -->\n",
       "<svg width=\"832pt\" height=\"100pt\"\n",
       " viewBox=\"0.00 0.00 831.50 100.00\" xmlns=\"http://www.w3.org/2000/svg\" xmlns:xlink=\"http://www.w3.org/1999/xlink\">\n",
       "<g id=\"graph0\" class=\"graph\" transform=\"scale(1 1) rotate(0) translate(4 96)\">\n",
       "<polygon fill=\"white\" stroke=\"none\" points=\"-4,4 -4,-96 827.5,-96 827.5,4 -4,4\"/>\n",
       "<!-- 1414723578896 -->\n",
       "<g id=\"node1\" class=\"node\">\n",
       "<title>1414723578896</title>\n",
       "<polygon fill=\"none\" stroke=\"black\" points=\"320.25,-55.5 320.25,-91.5 509.25,-91.5 509.25,-55.5 320.25,-55.5\"/>\n",
       "<text text-anchor=\"middle\" x=\"331.25\" y=\"-68.2\" font-family=\"Times New Roman,serif\" font-size=\"14.00\">e</text>\n",
       "<polyline fill=\"none\" stroke=\"black\" points=\"342.25,-55.75 342.25,-91.5\"/>\n",
       "<text text-anchor=\"middle\" x=\"382.5\" y=\"-68.2\" font-family=\"Times New Roman,serif\" font-size=\"14.00\">data 1.0000</text>\n",
       "<polyline fill=\"none\" stroke=\"black\" points=\"422.75,-55.75 422.75,-91.5\"/>\n",
       "<text text-anchor=\"middle\" x=\"466\" y=\"-68.2\" font-family=\"Times New Roman,serif\" font-size=\"14.00\">grad &#45;6.0000</text>\n",
       "</g>\n",
       "<!-- 1414723989456* -->\n",
       "<g id=\"node8\" class=\"node\">\n",
       "<title>1414723989456*</title>\n",
       "<ellipse fill=\"none\" stroke=\"black\" cx=\"573\" cy=\"-45.5\" rx=\"27\" ry=\"18\"/>\n",
       "<text text-anchor=\"middle\" x=\"573\" y=\"-40.08\" font-family=\"Times New Roman,serif\" font-size=\"14.00\">*</text>\n",
       "</g>\n",
       "<!-- 1414723578896&#45;&gt;1414723989456* -->\n",
       "<g id=\"edge9\" class=\"edge\">\n",
       "<title>1414723578896&#45;&gt;1414723989456*</title>\n",
       "<path fill=\"none\" stroke=\"black\" d=\"M509.35,-56.73C518.52,-55.08 527.39,-53.49 535.44,-52.05\"/>\n",
       "<polygon fill=\"black\" stroke=\"black\" points=\"535.85,-55.53 545.08,-50.32 534.62,-48.64 535.85,-55.53\"/>\n",
       "</g>\n",
       "<!-- 1414723578896+ -->\n",
       "<g id=\"node2\" class=\"node\">\n",
       "<title>1414723578896+</title>\n",
       "<ellipse fill=\"none\" stroke=\"black\" cx=\"256.5\" cy=\"-73.5\" rx=\"27\" ry=\"18\"/>\n",
       "<text text-anchor=\"middle\" x=\"256.5\" y=\"-68.08\" font-family=\"Times New Roman,serif\" font-size=\"14.00\">+</text>\n",
       "</g>\n",
       "<!-- 1414723578896+&#45;&gt;1414723578896 -->\n",
       "<g id=\"edge1\" class=\"edge\">\n",
       "<title>1414723578896+&#45;&gt;1414723578896</title>\n",
       "<path fill=\"none\" stroke=\"black\" d=\"M283.65,-73.5C291.06,-73.5 299.62,-73.5 308.73,-73.5\"/>\n",
       "<polygon fill=\"black\" stroke=\"black\" points=\"308.56,-77 318.56,-73.5 308.56,-70 308.56,-77\"/>\n",
       "</g>\n",
       "<!-- 1414717846608 -->\n",
       "<g id=\"node3\" class=\"node\">\n",
       "<title>1414717846608</title>\n",
       "<polygon fill=\"none\" stroke=\"black\" points=\"319.5,-0.5 319.5,-36.5 510,-36.5 510,-0.5 319.5,-0.5\"/>\n",
       "<text text-anchor=\"middle\" x=\"331.25\" y=\"-13.2\" font-family=\"Times New Roman,serif\" font-size=\"14.00\">d</text>\n",
       "<polyline fill=\"none\" stroke=\"black\" points=\"343,-0.75 343,-36.5\"/>\n",
       "<text text-anchor=\"middle\" x=\"385.5\" y=\"-13.2\" font-family=\"Times New Roman,serif\" font-size=\"14.00\">data &#45;6.0000</text>\n",
       "<polyline fill=\"none\" stroke=\"black\" points=\"428,-0.75 428,-36.5\"/>\n",
       "<text text-anchor=\"middle\" x=\"469\" y=\"-13.2\" font-family=\"Times New Roman,serif\" font-size=\"14.00\">grad 1.0000</text>\n",
       "</g>\n",
       "<!-- 1414717846608&#45;&gt;1414723989456* -->\n",
       "<g id=\"edge7\" class=\"edge\">\n",
       "<title>1414717846608&#45;&gt;1414723989456*</title>\n",
       "<path fill=\"none\" stroke=\"black\" d=\"M510.25,-34.83C519.04,-36.35 527.54,-37.82 535.28,-39.15\"/>\n",
       "<polygon fill=\"black\" stroke=\"black\" points=\"534.44,-42.56 544.89,-40.81 535.63,-35.66 534.44,-42.56\"/>\n",
       "</g>\n",
       "<!-- 1414717846608* -->\n",
       "<g id=\"node4\" class=\"node\">\n",
       "<title>1414717846608*</title>\n",
       "<ellipse fill=\"none\" stroke=\"black\" cx=\"256.5\" cy=\"-18.5\" rx=\"27\" ry=\"18\"/>\n",
       "<text text-anchor=\"middle\" x=\"256.5\" y=\"-13.07\" font-family=\"Times New Roman,serif\" font-size=\"14.00\">*</text>\n",
       "</g>\n",
       "<!-- 1414717846608*&#45;&gt;1414717846608 -->\n",
       "<g id=\"edge2\" class=\"edge\">\n",
       "<title>1414717846608*&#45;&gt;1414717846608</title>\n",
       "<path fill=\"none\" stroke=\"black\" d=\"M283.65,-18.5C290.8,-18.5 299.01,-18.5 307.75,-18.5\"/>\n",
       "<polygon fill=\"black\" stroke=\"black\" points=\"307.56,-22 317.56,-18.5 307.56,-15 307.56,-22\"/>\n",
       "</g>\n",
       "<!-- 1414722249488 -->\n",
       "<g id=\"node5\" class=\"node\">\n",
       "<title>1414722249488</title>\n",
       "<polygon fill=\"none\" stroke=\"black\" points=\"0,-55.5 0,-91.5 193.5,-91.5 193.5,-55.5 0,-55.5\"/>\n",
       "<text text-anchor=\"middle\" x=\"11\" y=\"-68.2\" font-family=\"Times New Roman,serif\" font-size=\"14.00\">a</text>\n",
       "<polyline fill=\"none\" stroke=\"black\" points=\"22,-55.75 22,-91.5\"/>\n",
       "<text text-anchor=\"middle\" x=\"64.5\" y=\"-68.2\" font-family=\"Times New Roman,serif\" font-size=\"14.00\">data &#45;2.0000</text>\n",
       "<polyline fill=\"none\" stroke=\"black\" points=\"107,-55.75 107,-91.5\"/>\n",
       "<text text-anchor=\"middle\" x=\"150.25\" y=\"-68.2\" font-family=\"Times New Roman,serif\" font-size=\"14.00\">grad &#45;3.0000</text>\n",
       "</g>\n",
       "<!-- 1414722249488&#45;&gt;1414723578896+ -->\n",
       "<g id=\"edge6\" class=\"edge\">\n",
       "<title>1414722249488&#45;&gt;1414723578896+</title>\n",
       "<path fill=\"none\" stroke=\"black\" d=\"M193.61,-73.5C202.06,-73.5 210.23,-73.5 217.73,-73.5\"/>\n",
       "<polygon fill=\"black\" stroke=\"black\" points=\"217.73,-77 227.73,-73.5 217.73,-70 217.73,-77\"/>\n",
       "</g>\n",
       "<!-- 1414722249488&#45;&gt;1414717846608* -->\n",
       "<g id=\"edge4\" class=\"edge\">\n",
       "<title>1414722249488&#45;&gt;1414717846608*</title>\n",
       "<path fill=\"none\" stroke=\"black\" d=\"M167.95,-55.01C176.62,-52.35 185.31,-49.49 193.5,-46.5 203.5,-42.86 214.14,-38.31 223.73,-33.95\"/>\n",
       "<polygon fill=\"black\" stroke=\"black\" points=\"225.06,-37.19 232.65,-29.79 222.11,-30.84 225.06,-37.19\"/>\n",
       "</g>\n",
       "<!-- 1414722933584 -->\n",
       "<g id=\"node6\" class=\"node\">\n",
       "<title>1414722933584</title>\n",
       "<polygon fill=\"none\" stroke=\"black\" points=\"1.5,-0.5 1.5,-36.5 192,-36.5 192,-0.5 1.5,-0.5\"/>\n",
       "<text text-anchor=\"middle\" x=\"13.25\" y=\"-13.2\" font-family=\"Times New Roman,serif\" font-size=\"14.00\">b</text>\n",
       "<polyline fill=\"none\" stroke=\"black\" points=\"25,-0.75 25,-36.5\"/>\n",
       "<text text-anchor=\"middle\" x=\"65.25\" y=\"-13.2\" font-family=\"Times New Roman,serif\" font-size=\"14.00\">data 3.0000</text>\n",
       "<polyline fill=\"none\" stroke=\"black\" points=\"105.5,-0.75 105.5,-36.5\"/>\n",
       "<text text-anchor=\"middle\" x=\"148.75\" y=\"-13.2\" font-family=\"Times New Roman,serif\" font-size=\"14.00\">grad &#45;8.0000</text>\n",
       "</g>\n",
       "<!-- 1414722933584&#45;&gt;1414723578896+ -->\n",
       "<g id=\"edge5\" class=\"edge\">\n",
       "<title>1414722933584&#45;&gt;1414723578896+</title>\n",
       "<path fill=\"none\" stroke=\"black\" d=\"M164.8,-36.94C174.5,-39.94 184.3,-43.17 193.5,-46.5 203.36,-50.07 213.9,-54.44 223.43,-58.62\"/>\n",
       "<polygon fill=\"black\" stroke=\"black\" points=\"221.74,-61.69 232.3,-62.58 224.59,-55.3 221.74,-61.69\"/>\n",
       "</g>\n",
       "<!-- 1414722933584&#45;&gt;1414717846608* -->\n",
       "<g id=\"edge8\" class=\"edge\">\n",
       "<title>1414722933584&#45;&gt;1414717846608*</title>\n",
       "<path fill=\"none\" stroke=\"black\" d=\"M192.25,-18.5C201.22,-18.5 209.92,-18.5 217.84,-18.5\"/>\n",
       "<polygon fill=\"black\" stroke=\"black\" points=\"217.7,-22 227.7,-18.5 217.7,-15 217.7,-22\"/>\n",
       "</g>\n",
       "<!-- 1414723989456 -->\n",
       "<g id=\"node7\" class=\"node\">\n",
       "<title>1414723989456</title>\n",
       "<polygon fill=\"none\" stroke=\"black\" points=\"636,-27.5 636,-63.5 823.5,-63.5 823.5,-27.5 636,-27.5\"/>\n",
       "<text text-anchor=\"middle\" x=\"646.25\" y=\"-40.2\" font-family=\"Times New Roman,serif\" font-size=\"14.00\">f</text>\n",
       "<polyline fill=\"none\" stroke=\"black\" points=\"656.5,-27.75 656.5,-63.5\"/>\n",
       "<text text-anchor=\"middle\" x=\"699\" y=\"-40.2\" font-family=\"Times New Roman,serif\" font-size=\"14.00\">data &#45;6.0000</text>\n",
       "<polyline fill=\"none\" stroke=\"black\" points=\"741.5,-27.75 741.5,-63.5\"/>\n",
       "<text text-anchor=\"middle\" x=\"782.5\" y=\"-40.2\" font-family=\"Times New Roman,serif\" font-size=\"14.00\">grad 1.0000</text>\n",
       "</g>\n",
       "<!-- 1414723989456*&#45;&gt;1414723989456 -->\n",
       "<g id=\"edge3\" class=\"edge\">\n",
       "<title>1414723989456*&#45;&gt;1414723989456</title>\n",
       "<path fill=\"none\" stroke=\"black\" d=\"M600.25,-45.5C607.41,-45.5 615.62,-45.5 624.35,-45.5\"/>\n",
       "<polygon fill=\"black\" stroke=\"black\" points=\"624.14,-49 634.14,-45.5 624.14,-42 624.14,-49\"/>\n",
       "</g>\n",
       "</g>\n",
       "</svg>\n"
      ],
      "text/plain": [
       "<graphviz.graphs.Digraph at 0x149641eead0>"
      ]
     },
     "execution_count": 33,
     "metadata": {},
     "output_type": "execute_result"
    }
   ],
   "source": [
    "a = Value(-2.0, label='a')\n",
    "b = Value(3.0, label='b')\n",
    "d = a * b    ; d.label = 'd'\n",
    "e = a + b    ; e.label = 'e'\n",
    "f = d * e    ; f.label = 'f'\n",
    "\n",
    "f.backward()\n",
    "\n",
    "draw_dot(f)"
   ]
  },
  {
   "cell_type": "code",
   "execution_count": null,
   "metadata": {},
   "outputs": [],
   "source": [
    "a1 = Value(-28, label = 'a')\n",
    "b1 = Value()"
   ]
  },
  {
   "cell_type": "code",
   "execution_count": null,
   "metadata": {},
   "outputs": [],
   "source": []
  }
 ],
 "metadata": {
  "kernelspec": {
   "display_name": "Python 3 (ipykernel)",
   "language": "python",
   "name": "python3"
  },
  "language_info": {
   "codemirror_mode": {
    "name": "ipython",
    "version": 3
   },
   "file_extension": ".py",
   "mimetype": "text/x-python",
   "name": "python",
   "nbconvert_exporter": "python",
   "pygments_lexer": "ipython3",
   "version": "3.11.8"
  }
 },
 "nbformat": 4,
 "nbformat_minor": 4
}
