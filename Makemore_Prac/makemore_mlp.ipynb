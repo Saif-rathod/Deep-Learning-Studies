{
  "cells": [
    {
      "cell_type": "code",
      "execution_count": null,
      "metadata": {
        "id": "WmI4kk_dq_gI"
      },
      "outputs": [],
      "source": [
        "import torch\n",
        "import torch.nn.functional as F\n",
        "import matplotlib.pyplot as plt\n",
        "%matplotlib inline\n",
        "import pandas as pd\n",
        "\n"
      ]
    },
    {
      "cell_type": "code",
      "execution_count": null,
      "metadata": {
        "colab": {
          "base_uri": "https://localhost:8080/",
          "height": 363
        },
        "id": "GLTQbbd6q_gM",
        "outputId": "a0b2b6b9-286b-4e34-e1c7-4ce319c84b62"
      },
      "outputs": [
        {
          "output_type": "execute_result",
          "data": {
            "text/plain": [
              "        emma\n",
              "0     olivia\n",
              "1        ava\n",
              "2   isabella\n",
              "3     sophia\n",
              "4  charlotte\n",
              "5        mia\n",
              "6     amelia\n",
              "7     harper\n",
              "8     evelyn\n",
              "9    abigail"
            ],
            "text/html": [
              "\n",
              "  <div id=\"df-c18116b8-6093-4273-9048-a4de36646fc4\" class=\"colab-df-container\">\n",
              "    <div>\n",
              "<style scoped>\n",
              "    .dataframe tbody tr th:only-of-type {\n",
              "        vertical-align: middle;\n",
              "    }\n",
              "\n",
              "    .dataframe tbody tr th {\n",
              "        vertical-align: top;\n",
              "    }\n",
              "\n",
              "    .dataframe thead th {\n",
              "        text-align: right;\n",
              "    }\n",
              "</style>\n",
              "<table border=\"1\" class=\"dataframe\">\n",
              "  <thead>\n",
              "    <tr style=\"text-align: right;\">\n",
              "      <th></th>\n",
              "      <th>emma</th>\n",
              "    </tr>\n",
              "  </thead>\n",
              "  <tbody>\n",
              "    <tr>\n",
              "      <th>0</th>\n",
              "      <td>olivia</td>\n",
              "    </tr>\n",
              "    <tr>\n",
              "      <th>1</th>\n",
              "      <td>ava</td>\n",
              "    </tr>\n",
              "    <tr>\n",
              "      <th>2</th>\n",
              "      <td>isabella</td>\n",
              "    </tr>\n",
              "    <tr>\n",
              "      <th>3</th>\n",
              "      <td>sophia</td>\n",
              "    </tr>\n",
              "    <tr>\n",
              "      <th>4</th>\n",
              "      <td>charlotte</td>\n",
              "    </tr>\n",
              "    <tr>\n",
              "      <th>5</th>\n",
              "      <td>mia</td>\n",
              "    </tr>\n",
              "    <tr>\n",
              "      <th>6</th>\n",
              "      <td>amelia</td>\n",
              "    </tr>\n",
              "    <tr>\n",
              "      <th>7</th>\n",
              "      <td>harper</td>\n",
              "    </tr>\n",
              "    <tr>\n",
              "      <th>8</th>\n",
              "      <td>evelyn</td>\n",
              "    </tr>\n",
              "    <tr>\n",
              "      <th>9</th>\n",
              "      <td>abigail</td>\n",
              "    </tr>\n",
              "  </tbody>\n",
              "</table>\n",
              "</div>\n",
              "    <div class=\"colab-df-buttons\">\n",
              "\n",
              "  <div class=\"colab-df-container\">\n",
              "    <button class=\"colab-df-convert\" onclick=\"convertToInteractive('df-c18116b8-6093-4273-9048-a4de36646fc4')\"\n",
              "            title=\"Convert this dataframe to an interactive table.\"\n",
              "            style=\"display:none;\">\n",
              "\n",
              "  <svg xmlns=\"http://www.w3.org/2000/svg\" height=\"24px\" viewBox=\"0 -960 960 960\">\n",
              "    <path d=\"M120-120v-720h720v720H120Zm60-500h600v-160H180v160Zm220 220h160v-160H400v160Zm0 220h160v-160H400v160ZM180-400h160v-160H180v160Zm440 0h160v-160H620v160ZM180-180h160v-160H180v160Zm440 0h160v-160H620v160Z\"/>\n",
              "  </svg>\n",
              "    </button>\n",
              "\n",
              "  <style>\n",
              "    .colab-df-container {\n",
              "      display:flex;\n",
              "      gap: 12px;\n",
              "    }\n",
              "\n",
              "    .colab-df-convert {\n",
              "      background-color: #E8F0FE;\n",
              "      border: none;\n",
              "      border-radius: 50%;\n",
              "      cursor: pointer;\n",
              "      display: none;\n",
              "      fill: #1967D2;\n",
              "      height: 32px;\n",
              "      padding: 0 0 0 0;\n",
              "      width: 32px;\n",
              "    }\n",
              "\n",
              "    .colab-df-convert:hover {\n",
              "      background-color: #E2EBFA;\n",
              "      box-shadow: 0px 1px 2px rgba(60, 64, 67, 0.3), 0px 1px 3px 1px rgba(60, 64, 67, 0.15);\n",
              "      fill: #174EA6;\n",
              "    }\n",
              "\n",
              "    .colab-df-buttons div {\n",
              "      margin-bottom: 4px;\n",
              "    }\n",
              "\n",
              "    [theme=dark] .colab-df-convert {\n",
              "      background-color: #3B4455;\n",
              "      fill: #D2E3FC;\n",
              "    }\n",
              "\n",
              "    [theme=dark] .colab-df-convert:hover {\n",
              "      background-color: #434B5C;\n",
              "      box-shadow: 0px 1px 3px 1px rgba(0, 0, 0, 0.15);\n",
              "      filter: drop-shadow(0px 1px 2px rgba(0, 0, 0, 0.3));\n",
              "      fill: #FFFFFF;\n",
              "    }\n",
              "  </style>\n",
              "\n",
              "    <script>\n",
              "      const buttonEl =\n",
              "        document.querySelector('#df-c18116b8-6093-4273-9048-a4de36646fc4 button.colab-df-convert');\n",
              "      buttonEl.style.display =\n",
              "        google.colab.kernel.accessAllowed ? 'block' : 'none';\n",
              "\n",
              "      async function convertToInteractive(key) {\n",
              "        const element = document.querySelector('#df-c18116b8-6093-4273-9048-a4de36646fc4');\n",
              "        const dataTable =\n",
              "          await google.colab.kernel.invokeFunction('convertToInteractive',\n",
              "                                                    [key], {});\n",
              "        if (!dataTable) return;\n",
              "\n",
              "        const docLinkHtml = 'Like what you see? Visit the ' +\n",
              "          '<a target=\"_blank\" href=https://colab.research.google.com/notebooks/data_table.ipynb>data table notebook</a>'\n",
              "          + ' to learn more about interactive tables.';\n",
              "        element.innerHTML = '';\n",
              "        dataTable['output_type'] = 'display_data';\n",
              "        await google.colab.output.renderOutput(dataTable, element);\n",
              "        const docLink = document.createElement('div');\n",
              "        docLink.innerHTML = docLinkHtml;\n",
              "        element.appendChild(docLink);\n",
              "      }\n",
              "    </script>\n",
              "  </div>\n",
              "\n",
              "\n",
              "<div id=\"df-01749647-02dc-42a2-b8c5-11714561d503\">\n",
              "  <button class=\"colab-df-quickchart\" onclick=\"quickchart('df-01749647-02dc-42a2-b8c5-11714561d503')\"\n",
              "            title=\"Suggest charts\"\n",
              "            style=\"display:none;\">\n",
              "\n",
              "<svg xmlns=\"http://www.w3.org/2000/svg\" height=\"24px\"viewBox=\"0 0 24 24\"\n",
              "     width=\"24px\">\n",
              "    <g>\n",
              "        <path d=\"M19 3H5c-1.1 0-2 .9-2 2v14c0 1.1.9 2 2 2h14c1.1 0 2-.9 2-2V5c0-1.1-.9-2-2-2zM9 17H7v-7h2v7zm4 0h-2V7h2v10zm4 0h-2v-4h2v4z\"/>\n",
              "    </g>\n",
              "</svg>\n",
              "  </button>\n",
              "\n",
              "<style>\n",
              "  .colab-df-quickchart {\n",
              "      --bg-color: #E8F0FE;\n",
              "      --fill-color: #1967D2;\n",
              "      --hover-bg-color: #E2EBFA;\n",
              "      --hover-fill-color: #174EA6;\n",
              "      --disabled-fill-color: #AAA;\n",
              "      --disabled-bg-color: #DDD;\n",
              "  }\n",
              "\n",
              "  [theme=dark] .colab-df-quickchart {\n",
              "      --bg-color: #3B4455;\n",
              "      --fill-color: #D2E3FC;\n",
              "      --hover-bg-color: #434B5C;\n",
              "      --hover-fill-color: #FFFFFF;\n",
              "      --disabled-bg-color: #3B4455;\n",
              "      --disabled-fill-color: #666;\n",
              "  }\n",
              "\n",
              "  .colab-df-quickchart {\n",
              "    background-color: var(--bg-color);\n",
              "    border: none;\n",
              "    border-radius: 50%;\n",
              "    cursor: pointer;\n",
              "    display: none;\n",
              "    fill: var(--fill-color);\n",
              "    height: 32px;\n",
              "    padding: 0;\n",
              "    width: 32px;\n",
              "  }\n",
              "\n",
              "  .colab-df-quickchart:hover {\n",
              "    background-color: var(--hover-bg-color);\n",
              "    box-shadow: 0 1px 2px rgba(60, 64, 67, 0.3), 0 1px 3px 1px rgba(60, 64, 67, 0.15);\n",
              "    fill: var(--button-hover-fill-color);\n",
              "  }\n",
              "\n",
              "  .colab-df-quickchart-complete:disabled,\n",
              "  .colab-df-quickchart-complete:disabled:hover {\n",
              "    background-color: var(--disabled-bg-color);\n",
              "    fill: var(--disabled-fill-color);\n",
              "    box-shadow: none;\n",
              "  }\n",
              "\n",
              "  .colab-df-spinner {\n",
              "    border: 2px solid var(--fill-color);\n",
              "    border-color: transparent;\n",
              "    border-bottom-color: var(--fill-color);\n",
              "    animation:\n",
              "      spin 1s steps(1) infinite;\n",
              "  }\n",
              "\n",
              "  @keyframes spin {\n",
              "    0% {\n",
              "      border-color: transparent;\n",
              "      border-bottom-color: var(--fill-color);\n",
              "      border-left-color: var(--fill-color);\n",
              "    }\n",
              "    20% {\n",
              "      border-color: transparent;\n",
              "      border-left-color: var(--fill-color);\n",
              "      border-top-color: var(--fill-color);\n",
              "    }\n",
              "    30% {\n",
              "      border-color: transparent;\n",
              "      border-left-color: var(--fill-color);\n",
              "      border-top-color: var(--fill-color);\n",
              "      border-right-color: var(--fill-color);\n",
              "    }\n",
              "    40% {\n",
              "      border-color: transparent;\n",
              "      border-right-color: var(--fill-color);\n",
              "      border-top-color: var(--fill-color);\n",
              "    }\n",
              "    60% {\n",
              "      border-color: transparent;\n",
              "      border-right-color: var(--fill-color);\n",
              "    }\n",
              "    80% {\n",
              "      border-color: transparent;\n",
              "      border-right-color: var(--fill-color);\n",
              "      border-bottom-color: var(--fill-color);\n",
              "    }\n",
              "    90% {\n",
              "      border-color: transparent;\n",
              "      border-bottom-color: var(--fill-color);\n",
              "    }\n",
              "  }\n",
              "</style>\n",
              "\n",
              "  <script>\n",
              "    async function quickchart(key) {\n",
              "      const quickchartButtonEl =\n",
              "        document.querySelector('#' + key + ' button');\n",
              "      quickchartButtonEl.disabled = true;  // To prevent multiple clicks.\n",
              "      quickchartButtonEl.classList.add('colab-df-spinner');\n",
              "      try {\n",
              "        const charts = await google.colab.kernel.invokeFunction(\n",
              "            'suggestCharts', [key], {});\n",
              "      } catch (error) {\n",
              "        console.error('Error during call to suggestCharts:', error);\n",
              "      }\n",
              "      quickchartButtonEl.classList.remove('colab-df-spinner');\n",
              "      quickchartButtonEl.classList.add('colab-df-quickchart-complete');\n",
              "    }\n",
              "    (() => {\n",
              "      let quickchartButtonEl =\n",
              "        document.querySelector('#df-01749647-02dc-42a2-b8c5-11714561d503 button');\n",
              "      quickchartButtonEl.style.display =\n",
              "        google.colab.kernel.accessAllowed ? 'block' : 'none';\n",
              "    })();\n",
              "  </script>\n",
              "</div>\n",
              "\n",
              "    </div>\n",
              "  </div>\n"
            ],
            "application/vnd.google.colaboratory.intrinsic+json": {
              "type": "dataframe",
              "variable_name": "df",
              "summary": "{\n  \"name\": \"df\",\n  \"rows\": 32032,\n  \"fields\": [\n    {\n      \"column\": \"emma\",\n      \"properties\": {\n        \"dtype\": \"string\",\n        \"num_unique_values\": 29494,\n        \"samples\": [\n          \"teairra\",\n          \"federico\",\n          \"joei\"\n        ],\n        \"semantic_type\": \"\",\n        \"description\": \"\"\n      }\n    }\n  ]\n}"
            }
          },
          "metadata": {},
          "execution_count": 192
        }
      ],
      "source": [
        "\n",
        "\n",
        "file = 'names.txt'\n",
        "df = pd.read_csv(file, delimiter='\\t')\n",
        "df.head(10)"
      ]
    },
    {
      "cell_type": "code",
      "execution_count": null,
      "metadata": {
        "colab": {
          "base_uri": "https://localhost:8080/"
        },
        "id": "fR_Muz9Wq_gO",
        "outputId": "2fcc30dc-d008-484f-ee2f-a1ed0b34eca8"
      },
      "outputs": [
        {
          "output_type": "execute_result",
          "data": {
            "text/plain": [
              "['emma', 'olivia', 'ava', 'isabella', 'sophia', 'charlotte', 'mia', 'amelia']"
            ]
          },
          "metadata": {},
          "execution_count": 193
        }
      ],
      "source": [
        "words = open('names.txt','r').read().splitlines()\n",
        "words[0:8]"
      ]
    },
    {
      "cell_type": "code",
      "execution_count": null,
      "metadata": {
        "colab": {
          "base_uri": "https://localhost:8080/"
        },
        "id": "v1MFYA6Lq_gO",
        "outputId": "64c3db0e-52f2-4db5-b08e-902c732e7d2a"
      },
      "outputs": [
        {
          "output_type": "execute_result",
          "data": {
            "text/plain": [
              "32033"
            ]
          },
          "metadata": {},
          "execution_count": 194
        }
      ],
      "source": [
        "len(words)"
      ]
    },
    {
      "cell_type": "code",
      "execution_count": null,
      "metadata": {
        "colab": {
          "base_uri": "https://localhost:8080/"
        },
        "id": "uiJ8XcPpq_gP",
        "outputId": "62bdd02d-78ef-44b4-a63f-fc47c195e38e"
      },
      "outputs": [
        {
          "output_type": "stream",
          "name": "stdout",
          "text": [
            "{1: 'a', 2: 'b', 3: 'c', 4: 'd', 5: 'e', 6: 'f', 7: 'g', 8: 'h', 9: 'i', 10: 'j', 11: 'k', 12: 'l', 13: 'm', 14: 'n', 15: 'o', 16: 'p', 17: 'q', 18: 'r', 19: 's', 20: 't', 21: 'u', 22: 'v', 23: 'w', 24: 'x', 25: 'y', 26: 'z', 0: '.'}\n"
          ]
        }
      ],
      "source": [
        "chars = sorted(list(set(''.join(words))))\n",
        "stoi = {s: i+1 for i,s in enumerate(chars)}\n",
        "stoi['.'] = 0\n",
        "itos = {i:s for s,i in stoi.items()}\n",
        "print(itos)\n"
      ]
    },
    {
      "cell_type": "code",
      "execution_count": 280,
      "metadata": {
        "colab": {
          "base_uri": "https://localhost:8080/"
        },
        "id": "YNDq9vtzq_gP",
        "outputId": "c16ba6bb-5db7-453b-d6aa-6e67858e028a"
      },
      "outputs": [
        {
          "output_type": "stream",
          "name": "stdout",
          "text": [
            "torch.Size([182512, 3]) torch.Size([182512])\n",
            "torch.Size([22860, 3]) torch.Size([22860])\n",
            "torch.Size([22774, 3]) torch.Size([22774])\n"
          ]
        }
      ],
      "source": [
        "#build the dataset\n",
        "\n",
        "block_size = 3 #CONTEXT LENGTH : HOW MANY CHARACTERS DO WE TAKE TO PREDICT THE NEXT ONE\n",
        "\n",
        "def build_dataset(words):\n",
        "  X,Y = [], []\n",
        "\n",
        "  for w in words:\n",
        "      # print(w)\n",
        "      context =  [0] * block_size\n",
        "      for ch in w + '.':\n",
        "          ix = stoi[ch]\n",
        "          X.append(context)\n",
        "          Y.append(ix)\n",
        "\n",
        "          # print(\"\".join(itos[i] for i in context),'======',itos[ix])\n",
        "\n",
        "          context = context[1:] + [ix]\n",
        "\n",
        "  X = torch.tensor(X)\n",
        "  Y = torch.tensor(Y)\n",
        "  print(X.shape,Y.shape)\n",
        "  return X,Y\n",
        "\n",
        "\n",
        "# print(X.shape,Y.shape)\n",
        "import random\n",
        "random.seed(42)\n",
        "random.shuffle(words)\n",
        "n1 = int(0.8*len(words))\n",
        "n2 = int(0.9*len(words))\n",
        "\n",
        "Xtr, Ytr = build_dataset(words[:n1])\n",
        "Xdev, Ydev = build_dataset(words[n1:n2])\n",
        "Xte, Yte = build_dataset(words[n2:])\n",
        "\n",
        "\n",
        "\n"
      ]
    },
    {
      "cell_type": "code",
      "execution_count": 281,
      "metadata": {
        "colab": {
          "base_uri": "https://localhost:8080/"
        },
        "id": "WHmYpXmOq_gQ",
        "outputId": "e176bbed-72e5-44a1-d0b5-88bb53ffb08b"
      },
      "outputs": [
        {
          "output_type": "execute_result",
          "data": {
            "text/plain": [
              "32033"
            ]
          },
          "metadata": {},
          "execution_count": 281
        }
      ],
      "source": [
        "len(words)\n",
        "\n"
      ]
    },
    {
      "cell_type": "code",
      "execution_count": 282,
      "metadata": {
        "colab": {
          "base_uri": "https://localhost:8080/"
        },
        "id": "DLPEOd_xq_gQ",
        "outputId": "8a576f7d-75df-4205-a8c7-5cc8cff5550f"
      },
      "outputs": [
        {
          "output_type": "execute_result",
          "data": {
            "text/plain": [
              "(25626, 28829)"
            ]
          },
          "metadata": {},
          "execution_count": 282
        }
      ],
      "source": [
        "n1,n2\n"
      ]
    },
    {
      "cell_type": "code",
      "source": [
        "n2 - n1"
      ],
      "metadata": {
        "colab": {
          "base_uri": "https://localhost:8080/"
        },
        "id": "1JZbggn9z9KM",
        "outputId": "0294b5c7-a45c-4c32-ddbc-73b14b5be38a"
      },
      "execution_count": 283,
      "outputs": [
        {
          "output_type": "execute_result",
          "data": {
            "text/plain": [
              "3203"
            ]
          },
          "metadata": {},
          "execution_count": 283
        }
      ]
    },
    {
      "cell_type": "code",
      "source": [
        "len(words) - n2"
      ],
      "metadata": {
        "colab": {
          "base_uri": "https://localhost:8080/"
        },
        "id": "x3kILK-Bz_JA",
        "outputId": "6b3d9144-dc9e-4201-d7df-8350812bd193"
      },
      "execution_count": 284,
      "outputs": [
        {
          "output_type": "execute_result",
          "data": {
            "text/plain": [
              "3204"
            ]
          },
          "metadata": {},
          "execution_count": 284
        }
      ]
    },
    {
      "cell_type": "code",
      "execution_count": 285,
      "metadata": {
        "id": "dug_xKriq_gQ"
      },
      "outputs": [],
      "source": [
        "C = torch.randn(27, 2)"
      ]
    },
    {
      "cell_type": "code",
      "execution_count": 286,
      "metadata": {
        "colab": {
          "base_uri": "https://localhost:8080/"
        },
        "id": "xHBw75IWq_gR",
        "outputId": "09510388-192c-45ea-8c0c-856bbe76cf62"
      },
      "outputs": [
        {
          "output_type": "execute_result",
          "data": {
            "text/plain": [
              "tensor([ 0.0200, -0.2207])"
            ]
          },
          "metadata": {},
          "execution_count": 286
        }
      ],
      "source": [
        "C[5]"
      ]
    },
    {
      "cell_type": "code",
      "execution_count": 287,
      "metadata": {
        "colab": {
          "base_uri": "https://localhost:8080/"
        },
        "id": "zmoYUz21q_gR",
        "outputId": "3ff1b0d3-dc9e-4c41-8bcf-4ca90be6456a"
      },
      "outputs": [
        {
          "output_type": "execute_result",
          "data": {
            "text/plain": [
              "tensor([ 0.0200, -0.2207])"
            ]
          },
          "metadata": {},
          "execution_count": 287
        }
      ],
      "source": [
        "F.one_hot(torch.tensor(5), num_classes = 27).float() @ C"
      ]
    },
    {
      "cell_type": "code",
      "execution_count": 288,
      "metadata": {
        "colab": {
          "base_uri": "https://localhost:8080/"
        },
        "id": "R5v2ANNkq_gR",
        "outputId": "fd913b2a-8356-42a2-f4fb-56eb31f41355"
      },
      "outputs": [
        {
          "output_type": "execute_result",
          "data": {
            "text/plain": [
              "tensor([[ 0.0200, -0.2207],\n",
              "        [-0.8607,  1.1318],\n",
              "        [ 0.8091,  0.3965]])"
            ]
          },
          "metadata": {},
          "execution_count": 288
        }
      ],
      "source": [
        "C[torch.tensor([5,6,7])]"
      ]
    },
    {
      "cell_type": "code",
      "execution_count": 292,
      "metadata": {
        "colab": {
          "base_uri": "https://localhost:8080/"
        },
        "id": "QPl5TWZ4q_gS",
        "outputId": "4e1d574c-7234-47fe-acdb-ac2ef3406cb9"
      },
      "outputs": [
        {
          "output_type": "execute_result",
          "data": {
            "text/plain": [
              "torch.Size([182512, 3, 2])"
            ]
          },
          "metadata": {},
          "execution_count": 292
        }
      ],
      "source": [
        "C[Xtr].shape"
      ]
    },
    {
      "cell_type": "code",
      "execution_count": 294,
      "metadata": {
        "colab": {
          "base_uri": "https://localhost:8080/"
        },
        "id": "zv8jSDdrq_gT",
        "outputId": "20e9ac31-4506-49c0-cb9d-b2a7f6bb6f46"
      },
      "outputs": [
        {
          "output_type": "execute_result",
          "data": {
            "text/plain": [
              "torch.Size([182512, 3, 2])"
            ]
          },
          "metadata": {},
          "execution_count": 294
        }
      ],
      "source": [
        "emb = C[Xtr]\n",
        "emb.shape"
      ]
    },
    {
      "cell_type": "code",
      "execution_count": 325,
      "metadata": {
        "id": "m_sbPfxQq_gU"
      },
      "outputs": [],
      "source": [
        "W1 = torch.randn((6,100))\n",
        "b1 = torch.randn(100)\n",
        "\n",
        "# emb @ W1 + b1"
      ]
    },
    {
      "cell_type": "code",
      "execution_count": 326,
      "metadata": {
        "id": "3xIvr5qzq_gV"
      },
      "outputs": [],
      "source": [
        "h = emb.view(emb.shape[0],-1) @ W1 + b1"
      ]
    },
    {
      "cell_type": "code",
      "execution_count": 327,
      "metadata": {
        "colab": {
          "base_uri": "https://localhost:8080/"
        },
        "id": "A9wesQ0Xq_gV",
        "outputId": "b898081a-395a-4ccb-f573-0bdc1545cff0"
      },
      "outputs": [
        {
          "output_type": "execute_result",
          "data": {
            "text/plain": [
              "torch.Size([182512, 100])"
            ]
          },
          "metadata": {},
          "execution_count": 327
        }
      ],
      "source": [
        "h.shape"
      ]
    },
    {
      "cell_type": "code",
      "execution_count": 328,
      "metadata": {
        "colab": {
          "base_uri": "https://localhost:8080/"
        },
        "id": "YcGDlZRtq_gV",
        "outputId": "7513d1f1-216d-4182-daa4-a143a34df096"
      },
      "outputs": [
        {
          "output_type": "execute_result",
          "data": {
            "text/plain": [
              "tensor([[ 1.6131,  0.1957,  0.1760,  ..., -1.1482,  2.3149,  0.1057],\n",
              "        [ 1.6692,  2.5955, -0.5630,  ..., -2.1384,  0.9647, -1.3293],\n",
              "        [ 1.8638,  1.4784, -1.3821,  ..., -0.7361,  0.6084, -0.7864],\n",
              "        ...,\n",
              "        [ 1.7988, -0.3147, -2.8625,  ..., -1.8565,  4.2404,  1.6987],\n",
              "        [ 1.1183,  2.1932,  1.3855,  ..., -1.0035, -0.1151, -0.5048],\n",
              "        [ 1.2459,  1.5006,  0.3515,  ..., -0.6630,  1.5091, -0.7540]])"
            ]
          },
          "metadata": {},
          "execution_count": 328
        }
      ],
      "source": [
        "h"
      ]
    },
    {
      "cell_type": "code",
      "execution_count": 329,
      "metadata": {
        "colab": {
          "base_uri": "https://localhost:8080/"
        },
        "id": "jrGATiOyq_gV",
        "outputId": "5478b004-71ac-4426-ba24-a1de999be8ac"
      },
      "outputs": [
        {
          "output_type": "execute_result",
          "data": {
            "text/plain": [
              "torch.Size([182512, 6])"
            ]
          },
          "metadata": {},
          "execution_count": 329
        }
      ],
      "source": [
        "torch.cat([emb[:,0, :], emb [:,1, :], emb[:,2, :]], 1).shape\n"
      ]
    },
    {
      "cell_type": "code",
      "execution_count": 330,
      "metadata": {
        "colab": {
          "base_uri": "https://localhost:8080/"
        },
        "id": "SFar_4V1q_gV",
        "outputId": "3b799e07-3f3f-4102-8749-a6d3b5b8223b"
      },
      "outputs": [
        {
          "output_type": "execute_result",
          "data": {
            "text/plain": [
              "torch.Size([182512, 6])"
            ]
          },
          "metadata": {},
          "execution_count": 330
        }
      ],
      "source": [
        "torch.cat([emb[:,0, :], emb [:,1, :], emb[:,2, :]], 1).shape"
      ]
    },
    {
      "cell_type": "code",
      "execution_count": 331,
      "metadata": {
        "colab": {
          "base_uri": "https://localhost:8080/"
        },
        "id": "HkoT_1pJq_gV",
        "outputId": "18b76fa4-0f61-46ff-8c6e-5a908a8f57bf"
      },
      "outputs": [
        {
          "output_type": "execute_result",
          "data": {
            "text/plain": [
              "torch.Size([182512, 100])"
            ]
          },
          "metadata": {},
          "execution_count": 331
        }
      ],
      "source": [
        "h.shape"
      ]
    },
    {
      "cell_type": "code",
      "execution_count": 332,
      "metadata": {
        "id": "KKc3-kXTq_gW"
      },
      "outputs": [],
      "source": [
        "h = torch.tanh(emb.view (-1, 6) @ W1 +b1)"
      ]
    },
    {
      "cell_type": "code",
      "execution_count": 333,
      "metadata": {
        "colab": {
          "base_uri": "https://localhost:8080/"
        },
        "id": "OG_TwcRlq_gW",
        "outputId": "e8520ffb-4bc5-4338-c340-fd39f64fae4d"
      },
      "outputs": [
        {
          "output_type": "execute_result",
          "data": {
            "text/plain": [
              "tensor([[ 0.9236,  0.1932,  0.1742,  ..., -0.8171,  0.9807,  0.1053],\n",
              "        [ 0.9314,  0.9889, -0.5102,  ..., -0.9726,  0.7464, -0.8691],\n",
              "        [ 0.9530,  0.9012, -0.8814,  ..., -0.6268,  0.5430, -0.6564],\n",
              "        ...,\n",
              "        [ 0.9467, -0.3047, -0.9935,  ..., -0.9524,  0.9996,  0.9352],\n",
              "        [ 0.8070,  0.9754,  0.8822,  ..., -0.7630, -0.1146, -0.4659],\n",
              "        [ 0.8471,  0.9053,  0.3377,  ..., -0.5803,  0.9068, -0.6375]])"
            ]
          },
          "metadata": {},
          "execution_count": 333
        }
      ],
      "source": [
        "h"
      ]
    },
    {
      "cell_type": "code",
      "execution_count": 334,
      "metadata": {
        "id": "KdNfCb6Zq_gW"
      },
      "outputs": [],
      "source": [
        "W2 = torch.randn((100),27)\n",
        "b2 = torch.randn(27)"
      ]
    },
    {
      "cell_type": "code",
      "execution_count": 335,
      "metadata": {
        "id": "CWIMLQEbq_gW"
      },
      "outputs": [],
      "source": [
        "logits = h @ W2 + b2"
      ]
    },
    {
      "cell_type": "code",
      "execution_count": 336,
      "metadata": {
        "colab": {
          "base_uri": "https://localhost:8080/"
        },
        "id": "kQq5-cuxq_gW",
        "outputId": "0fdca96e-8503-43ae-dd84-e6db0e9ca8d0"
      },
      "outputs": [
        {
          "output_type": "execute_result",
          "data": {
            "text/plain": [
              "torch.Size([182512, 27])"
            ]
          },
          "metadata": {},
          "execution_count": 336
        }
      ],
      "source": [
        "logits.shape"
      ]
    },
    {
      "cell_type": "code",
      "execution_count": 337,
      "metadata": {
        "colab": {
          "base_uri": "https://localhost:8080/"
        },
        "id": "J50BhGw0q_gW",
        "outputId": "e601e229-9606-4057-eb71-e672ad9efbb6"
      },
      "outputs": [
        {
          "output_type": "execute_result",
          "data": {
            "text/plain": [
              "182512"
            ]
          },
          "metadata": {},
          "execution_count": 337
        }
      ],
      "source": [
        "counts = logits.exp()\n",
        "len(counts)"
      ]
    },
    {
      "cell_type": "code",
      "execution_count": 338,
      "metadata": {
        "id": "oF1TBDLkq_gX"
      },
      "outputs": [],
      "source": [
        "prob = counts / counts.sum(1, keepdim=True)"
      ]
    },
    {
      "cell_type": "code",
      "execution_count": 339,
      "metadata": {
        "colab": {
          "base_uri": "https://localhost:8080/"
        },
        "id": "6WHEPtjsq_gX",
        "outputId": "c5575cb2-5ed6-4293-a5a1-93d7b6dee494"
      },
      "outputs": [
        {
          "output_type": "execute_result",
          "data": {
            "text/plain": [
              "tensor(1.0000)"
            ]
          },
          "metadata": {},
          "execution_count": 339
        }
      ],
      "source": [
        "prob[0].sum()"
      ]
    },
    {
      "cell_type": "code",
      "execution_count": 340,
      "metadata": {
        "id": "f_x6eVggq_gX"
      },
      "outputs": [],
      "source": [
        "# prob[torch.arange(32),Y]"
      ]
    },
    {
      "cell_type": "code",
      "execution_count": 430,
      "metadata": {
        "id": "vbl2ql0nq_gY",
        "collapsed": true
      },
      "outputs": [],
      "source": [
        "loss = -prob[torch.arange(32), Y].log().mean()\n",
        "loss"
      ]
    },
    {
      "cell_type": "code",
      "source": [
        "Xtr.shape, Ytr.shape"
      ],
      "metadata": {
        "colab": {
          "base_uri": "https://localhost:8080/"
        },
        "id": "TJUUlkOP06sy",
        "outputId": "7f76ca0a-b81d-4933-c324-ed0ca3ff67c5"
      },
      "execution_count": 347,
      "outputs": [
        {
          "output_type": "execute_result",
          "data": {
            "text/plain": [
              "(torch.Size([182512, 3]), torch.Size([182512]))"
            ]
          },
          "metadata": {},
          "execution_count": 347
        }
      ]
    },
    {
      "cell_type": "code",
      "execution_count": 402,
      "metadata": {
        "id": "OweHD04sq_gZ"
      },
      "outputs": [],
      "source": [
        "g= torch.Generator().manual_seed(2147483647)\n",
        "C = torch.randn(27, 10, generator=g)\n",
        "W1 = torch.randn((30,200), generator =g)\n",
        "b1 = torch.randn(200, generator=g)\n",
        "W2 = torch.randn((200,27), generator = g)\n",
        "b2 = torch.randn(27, generator=g)\n",
        "\n",
        "parameters = [C, W1, b1 , W2, b2]\n",
        "# parameters"
      ]
    },
    {
      "cell_type": "code",
      "execution_count": 403,
      "metadata": {
        "colab": {
          "base_uri": "https://localhost:8080/"
        },
        "id": "8BRv6zSYq_ga",
        "outputId": "b9bb6d65-abb3-4083-d405-b62f24afd12c"
      },
      "outputs": [
        {
          "output_type": "execute_result",
          "data": {
            "text/plain": [
              "11897"
            ]
          },
          "metadata": {},
          "execution_count": 403
        }
      ],
      "source": [
        "sum(p.nelement() for  p in parameters)"
      ]
    },
    {
      "cell_type": "code",
      "execution_count": 404,
      "metadata": {
        "id": "TlSt6xUBq_gb"
      },
      "outputs": [],
      "source": [
        "for p in parameters:\n",
        "    p.requires_grad = True"
      ]
    },
    {
      "cell_type": "code",
      "source": [
        "h.shape"
      ],
      "metadata": {
        "colab": {
          "base_uri": "https://localhost:8080/"
        },
        "id": "4XMd7fgi1hzJ",
        "outputId": "5822b351-74be-4ae3-e5d7-cf7e3ee45305"
      },
      "execution_count": 405,
      "outputs": [
        {
          "output_type": "execute_result",
          "data": {
            "text/plain": [
              "torch.Size([22860, 300])"
            ]
          },
          "metadata": {},
          "execution_count": 405
        }
      ]
    },
    {
      "cell_type": "code",
      "execution_count": 406,
      "metadata": {
        "id": "_YQsmIU-q_gb"
      },
      "outputs": [],
      "source": [
        "\n",
        "lre = torch.linspace(-3,0,1000)\n",
        "lrs = 10**lre\n"
      ]
    },
    {
      "cell_type": "code",
      "source": [
        "lri = []\n",
        "lossi = []\n",
        "stepi = []"
      ],
      "metadata": {
        "id": "CHTsanVN8g-e"
      },
      "execution_count": 407,
      "outputs": []
    },
    {
      "source": [
        "\n",
        "\n",
        "for i in range(200000):\n",
        "\n",
        "    ix = torch.randint(0, Xtr.shape[0], (32,)) #minibatch construct\n",
        "\n",
        "\n",
        "\n",
        "    emb = C[Xtr[ix]]  #forward pass\n",
        "\n",
        "    h = torch.tanh(emb.view(-1,30) @ W1 + b1) #32,100\n",
        "    logits = h @ W2 + b2 # 32,27\n",
        "    loss = F.cross_entropy(logits, Ytr[ix])\n",
        "\n",
        "\n",
        "    for p in parameters: #backward pass\n",
        "        p.grad = None\n",
        "    loss.backward()\n",
        "\n",
        "\n",
        "    # lr = lrs [i]\n",
        "    lr = 0.1 if i < 100000 else 0.01\n",
        "    for p in parameters: #update\n",
        "        p.data += - lr * p.grad\n",
        "\n",
        "\n",
        "    stepi.append(i)\n",
        "\n",
        "\n",
        "    # lri.append(lr)\n",
        "    lossi.append(loss.log10().item())\n",
        "\n",
        "# print(loss.item())"
      ],
      "cell_type": "code",
      "metadata": {
        "id": "7APOnlpS2Oyy"
      },
      "execution_count": 425,
      "outputs": []
    },
    {
      "cell_type": "code",
      "source": [
        "plt.plot(stepi, lossi)"
      ],
      "metadata": {
        "colab": {
          "base_uri": "https://localhost:8080/",
          "height": 448
        },
        "id": "lKfBDVGn5_-U",
        "outputId": "13ea4b7b-423f-4c95-cebf-3833f71b0406"
      },
      "execution_count": 426,
      "outputs": [
        {
          "output_type": "execute_result",
          "data": {
            "text/plain": [
              "[<matplotlib.lines.Line2D at 0x7bafb9777460>]"
            ]
          },
          "metadata": {},
          "execution_count": 426
        },
        {
          "output_type": "display_data",
          "data": {
            "text/plain": [
              "<Figure size 640x480 with 1 Axes>"
            ],
            "image/png": "[encoded data removed]"
          },
          "metadata": {}
        }
      ]
    },
    {
      "cell_type": "code",
      "source": [
        "print(loss.item())"
      ],
      "metadata": {
        "colab": {
          "base_uri": "https://localhost:8080/"
        },
        "id": "Fh0eaIRq1K4a",
        "outputId": "a91da5b8-b0a2-4765-cb42-36780e2488c7"
      },
      "execution_count": 427,
      "outputs": [
        {
          "output_type": "stream",
          "name": "stdout",
          "text": [
            "2.419304132461548\n"
          ]
        }
      ]
    },
    {
      "cell_type": "code",
      "execution_count": 428,
      "metadata": {
        "colab": {
          "base_uri": "https://localhost:8080/"
        },
        "id": "UhRIOJq6q_gb",
        "outputId": "feaa6523-3690-4e20-e244-12e85fa124ae"
      },
      "outputs": [
        {
          "output_type": "execute_result",
          "data": {
            "text/plain": [
              "tensor(2.0922, grad_fn=<NllLossBackward0>)"
            ]
          },
          "metadata": {},
          "execution_count": 428
        }
      ],
      "source": [
        "emb = C[Xtr] #32,3,2\n",
        "h = torch.tanh(emb.view(-1,30) @ W1 + b1)\n",
        "logits = h @ W2 + b2\n",
        "loss = F.cross_entropy(logits, Ytr)\n",
        "loss"
      ]
    },
    {
      "cell_type": "code",
      "execution_count": 429,
      "metadata": {
        "colab": {
          "base_uri": "https://localhost:8080/"
        },
        "id": "eB39c0LMq_gc",
        "outputId": "f217852c-074d-4341-9423-91e648853a15"
      },
      "outputs": [
        {
          "output_type": "execute_result",
          "data": {
            "text/plain": [
              "tensor(2.1388, grad_fn=<NllLossBackward0>)"
            ]
          },
          "metadata": {},
          "execution_count": 429
        }
      ],
      "source": [
        "emb = C[Xdev]\n",
        "h = torch.tanh(emb.view(-1,30) @ W1 + b1)\n",
        "logits = h @ W2 + b2\n",
        "loss = F.cross_entropy(logits, Ydev)\n",
        "loss"
      ]
    },
    {
      "cell_type": "code",
      "execution_count": 429,
      "metadata": {
        "id": "LzbhLGtJq_gk"
      },
      "outputs": [],
      "source": []
    },
    {
      "cell_type": "code",
      "execution_count": null,
      "metadata": {
        "colab": {
          "base_uri": "https://localhost:8080/"
        },
        "id": "lzFNhu0mq_gl",
        "outputId": "71ee6a12-7259-4265-87c2-5198fbc8d768"
      },
      "outputs": [
        {
          "output_type": "execute_result",
          "data": {
            "text/plain": [
              "tensor([0, 2, 0, 1, 0, 3, 1, 3, 4, 2, 4, 1, 0, 4, 1, 1, 0, 4, 0, 4, 3, 4, 1, 1,\n",
              "        3, 4, 4, 3, 0, 4, 0, 0])"
            ]
          },
          "metadata": {},
          "execution_count": 231
        }
      ],
      "source": [
        "#  torch.randint(0,5,(32,))"
      ]
    },
    {
      "cell_type": "code",
      "execution_count": null,
      "metadata": {
        "colab": {
          "base_uri": "https://localhost:8080/"
        },
        "id": "WgbrraI9q_gl",
        "outputId": "d89a0045-7d92-414c-da50-cda7122a5536"
      },
      "outputs": [
        {
          "output_type": "execute_result",
          "data": {
            "text/plain": [
              "tensor(2.2987, grad_fn=<NllLossBackward0>)"
            ]
          },
          "metadata": {},
          "execution_count": 246
        }
      ],
      "source": [
        "# emb = C[X]\n",
        "# h = torch.tanh(emb.view(-1,20) @ W1 + b1)\n",
        "# logits = h @ W2 + b2\n",
        "# loss = F.cross_entropy(logits, Y)\n",
        "# loss"
      ]
    },
    {
      "cell_type": "code",
      "source": [
        "plt.figure(figsize=(8,8))\n",
        "plt.scatter(C[:,0].data, C[:,1].data, s=200)\n",
        "for i in range(C.shape[0]):\n",
        "    plt.text(C[i,0].item(), C[i,1].item(), itos[i], ha=\"center\", va=\"center\", color=\"white\")\n",
        "plt.grid('minor')"
      ],
      "metadata": {
        "id": "l-9Dx_9GsIpK",
        "colab": {
          "base_uri": "https://localhost:8080/",
          "height": 676
        },
        "outputId": "97d19747-d977-4bb9-ac8e-8731bc62d8aa"
      },
      "execution_count": 419,
      "outputs": [
        {
          "output_type": "display_data",
          "data": {
            "text/plain": [
              "<Figure size 800x800 with 1 Axes>"
            ],
            "image/png": "[encoded data removed]"
          },
          "metadata": {}
        }
      ]
    },
    {
      "cell_type": "code",
      "source": [
        "g = torch.Generator().manual_seed(2147483647 + 10)\n",
        "\n",
        "for _ in range(50):\n",
        "  out = []\n",
        "  context = [0] * block_size\n",
        "\n",
        "  while True:\n",
        "    emb = C[torch.tensor([context])]\n",
        "    h = torch.tanh(emb.view(1,-1) @ W1 + b1)\n",
        "    logits = h @ W2 + b2\n",
        "    probs = F.softmax(logits, dim=1)\n",
        "    ix = torch.multinomial(probs, num_samples=1, replacement=True, generator=g).item()\n",
        "    context = context[1:] + [ix]\n",
        "    out.append(ix)\n",
        "    if ix == 0:\n",
        "      break\n",
        "\n",
        "\n",
        "\n",
        "  print(''.join(itos[i] for i in out))  #name like\n"
      ],
      "metadata": {
        "colab": {
          "base_uri": "https://localhost:8080/"
        },
        "id": "6HLEJX2s77rv",
        "outputId": "d8d5777d-9a77-4163-a51b-cc6666a2e201"
      },
      "execution_count": 434,
      "outputs": [
        {
          "output_type": "stream",
          "name": "stdout",
          "text": [
            "moha.\n",
            "kayah.\n",
            "see.\n",
            "med.\n",
            "rylle.\n",
            "emmadiendraege.\n",
            "dered.\n",
            "elin.\n",
            "shi.\n",
            "jenne.\n",
            "elisson.\n",
            "arleiyah.\n",
            "hoter.\n",
            "noshubergshimiel.\n",
            "kendrenlynn.\n",
            "nophir.\n",
            "uberted.\n",
            "ryyah.\n",
            "fael.\n",
            "yuma.\n",
            "mys.\n",
            "kyla.\n",
            "hal.\n",
            "salynn.\n",
            "uf.\n",
            "zakel.\n",
            "juren.\n",
            "crevis.\n",
            "jaiel.\n",
            "pord.\n",
            "jaquine.\n",
            "ban.\n",
            "prick.\n",
            "kentyn.\n",
            "kharlo.\n",
            "jia.\n",
            "kiri.\n",
            "evon.\n",
            "walla.\n",
            "ortarah.\n",
            "tani.\n",
            "sira.\n",
            "alington.\n",
            "braivia.\n",
            "mellake.\n",
            "armon.\n",
            "xavia.\n",
            "damaizekic.\n",
            "keightud.\n",
            "rive.\n"
          ]
        }
      ]
    },
    {
      "cell_type": "code",
      "source": [],
      "metadata": {
        "id": "cR-W3Ahw_F-1"
      },
      "execution_count": null,
      "outputs": []
    }
  ],
  "metadata": {
    "kernelspec": {
      "display_name": "base",
      "language": "python",
      "name": "python3"
    },
    "language_info": {
      "codemirror_mode": {
        "name": "ipython",
        "version": 3
      },
      "file_extension": ".py",
      "mimetype": "text/x-python",
      "name": "python",
      "nbconvert_exporter": "python",
      "pygments_lexer": "ipython3",
      "version": "3.11.8"
    },
    "colab": {
      "provenance": [],
      "toc_visible": true
    }
  },
  "nbformat": 4,
  "nbformat_minor": 0
}